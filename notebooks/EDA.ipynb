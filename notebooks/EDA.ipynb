{
 "cells": [
  {
   "cell_type": "markdown",
   "id": "02b8b6d6",
   "metadata": {},
   "source": [
    "# EDA датасета\n",
    "\n",
    "В этом ноутбуке проведён первичный разведочный анализ данных (EDA) для датасета по различным типам целлюлозосодержащего сырья.  \n",
    "Будут проверены: структура данных, полнота, уникальность, распределение категорий, выбросы и основные метрики качества.  \n",
    "Каждый этап сопровождается кодом и краткими интерпретациями."
   ]
  },
  {
   "cell_type": "code",
   "execution_count": 1,
   "id": "c7539673",
   "metadata": {
    "vscode": {
     "languageId": "plaintext"
    }
   },
   "outputs": [],
   "source": [
    "import pandas as pd\n",
    "import matplotlib.pyplot as plt\n",
    "import seaborn as sns\n",
    "import numpy as np\n",
    "from data_loader import load_data\n",
    "\n",
    "sns.set(style=\"whitegrid\")\n",
    "%matplotlib inline"
   ]
  },
  {
   "cell_type": "markdown",
   "id": "df306129",
   "metadata": {},
   "source": [
    "## Загрузка и первичный осмотр данных\n",
    "\n",
    "Данные загружаются через собственный файл data_loader. Выведем размер и строки таблицы."
   ]
  },
  {
   "cell_type": "code",
   "execution_count": 2,
   "id": "a7280799",
   "metadata": {
    "vscode": {
     "languageId": "plaintext"
    }
   },
   "outputs": [
    {
     "name": "stdout",
     "output_type": "stream",
     "text": [
      "Файл загружен\n",
      "\n",
      "     Unnamed: 0  dbh     wood    bark    root   rootsk  branch  \\\n",
      "0             1   90   5528.0     NaN   460.0      NaN     NaN   \n",
      "1             2  106  13650.0     NaN  1500.0   665.00     NaN   \n",
      "2             3  112  11200.0     NaN  1100.0   680.00     NaN   \n",
      "3             4   34   1000.0     NaN   430.0    40.00     NaN   \n",
      "4             5  130      NaN     NaN  3000.0  1030.00     NaN   \n",
      "5             6   86   7027.0     NaN   550.0   290.00    94.0   \n",
      "6             7   39   1086.0     NaN   220.0    48.00     NaN   \n",
      "7             8   50      NaN     NaN   524.0    74.00     NaN   \n",
      "8             9   30      NaN     NaN   150.0    27.00     NaN   \n",
      "9            10   39      NaN     NaN   245.0    28.00     NaN   \n",
      "10           11  103  15396.0  1800.0  1400.0   653.00     NaN   \n",
      "11           12   50   3047.0     NaN   240.0    98.00    83.0   \n",
      "12           13  110  17841.0     NaN  2000.0   474.00     NaN   \n",
      "13           14   77      NaN     NaN   600.0   280.00     NaN   \n",
      "14           15    5      NaN     NaN     7.0     0.30     NaN   \n",
      "15           16    7      NaN     NaN     6.0     0.40     NaN   \n",
      "16           17   26      NaN     NaN    85.0    19.00     NaN   \n",
      "17           18    8      NaN     NaN     6.2     0.50     NaN   \n",
      "18           19    8      NaN     NaN     7.0     0.40     NaN   \n",
      "19           20    9      NaN     NaN    10.0     0.70     NaN   \n",
      "20           21   14      NaN     NaN    25.0     3.10     NaN   \n",
      "21           22   85      NaN     NaN  1900.0   317.00     NaN   \n",
      "22           23    6      NaN     NaN     8.0     0.20     NaN   \n",
      "23           24   24      NaN     NaN   112.0    14.00     NaN   \n",
      "24           25   46      NaN     NaN   175.0    63.00     NaN   \n",
      "25           26   28      NaN     NaN    88.0    30.00     NaN   \n",
      "26           27    6      NaN     NaN     6.0     0.30     NaN   \n",
      "27           28    4      NaN     NaN     1.2     0.07     NaN   \n",
      "28           29   36   1130.0     NaN     NaN      NaN     NaN   \n",
      "29           30   22    440.0     NaN     NaN      NaN     NaN   \n",
      "30           31   54   4082.0     NaN     NaN      NaN    58.0   \n",
      "31           32   37   1387.0     NaN   125.0    27.00    56.0   \n",
      "32           33   44   2479.0     NaN   135.0    45.00    97.0   \n",
      "33           34   17    192.0    59.0     NaN      NaN    18.0   \n",
      "34           35  130  25116.0     NaN     NaN      NaN     NaN   \n",
      "35           36   13    126.0     NaN    30.0     3.00     NaN   \n",
      "36           37   11     98.0     NaN    17.0     2.00     NaN   \n",
      "37           38   15    190.0     NaN    21.0     9.00    21.0   \n",
      "38           39   15    168.0     NaN    26.0     4.40    17.0   \n",
      "39           40   12    110.0     NaN    18.0     4.00    16.0   \n",
      "40           41   13    170.0     NaN     NaN      NaN    17.0   \n",
      "41           42   14    151.0     NaN     NaN      NaN    11.0   \n",
      "42           43   16    170.0     NaN    24.0    13.00     NaN   \n",
      "43           44   11     81.0     NaN    20.0     2.20     NaN   \n",
      "44           45   60   4220.0   667.0     NaN      NaN   274.0   \n",
      "45           46  100  16196.0  1653.0     NaN      NaN   371.0   \n",
      "46           47   50   2957.0     NaN     NaN      NaN     NaN   \n",
      "47           48  145  22300.0  1808.0  2250.0   977.00     NaN   \n",
      "48           49    7     13.0     NaN     NaN      NaN     NaN   \n",
      "49           50    7     17.0     NaN     NaN      NaN     NaN   \n",
      "50           51    6     11.0     NaN     NaN      NaN     NaN   \n",
      "51           52    7     16.0     NaN     NaN      NaN     NaN   \n",
      "52           53    8     20.0     7.0     NaN      NaN     7.0   \n",
      "53           54    9     31.0     NaN     NaN      NaN     NaN   \n",
      "54           55   12     60.0    20.0     NaN      NaN    11.0   \n",
      "55           56    4      6.0     NaN     NaN      NaN     NaN   \n",
      "56           57    5      6.0     NaN     NaN      NaN     NaN   \n",
      "57           58    7     21.0     NaN     NaN      NaN     NaN   \n",
      "58           59    4      4.0     NaN     NaN      NaN     NaN   \n",
      "59           60    4      3.0     NaN     NaN      NaN     NaN   \n",
      "60           61   23    353.0     NaN   135.0    13.00    35.0   \n",
      "61           62   20    208.0     NaN     NaN      NaN    41.0   \n",
      "62           63   23    445.0     NaN     NaN      NaN    50.0   \n",
      "63           64   54   3300.0     NaN     NaN      NaN   142.0   \n",
      "64           65   24    590.0     NaN     NaN      NaN     NaN   \n",
      "65           66   43   2200.0   328.0     NaN      NaN   144.0   \n",
      "66           67   41   1575.0     NaN     NaN      NaN   133.0   \n",
      "67           68   55   4350.0   696.0     NaN      NaN   151.0   \n",
      "68           69   55   3000.0     NaN     NaN      NaN   279.0   \n",
      "69           70   11     74.0     NaN    20.0     1.00     8.0   \n",
      "70           71    3      3.0     NaN     0.3     0.05     NaN   \n",
      "71           72   10     56.0     NaN    20.0     2.00     8.0   \n",
      "72           73    4      5.0     NaN     NaN      NaN     NaN   \n",
      "73           74    5     15.0     NaN     NaN      NaN     NaN   \n",
      "74           75    7     27.0     NaN     NaN      NaN     NaN   \n",
      "75           76    6     12.0     NaN     NaN      NaN     NaN   \n",
      "76           77    8     25.0     NaN     NaN      NaN     NaN   \n",
      "77           78    5      8.0     NaN     NaN      NaN     NaN   \n",
      "78           79    8     29.0     NaN     NaN      NaN     NaN   \n",
      "79           80    5     14.0     NaN     2.0     2.40     NaN   \n",
      "80           81    5     10.0     NaN     NaN      NaN     NaN   \n",
      "81           82    8     31.0     NaN     NaN      NaN     NaN   \n",
      "82           83   10     59.0     NaN     NaN      NaN     NaN   \n",
      "83           84    8     30.0     NaN     6.0     1.00     4.0   \n",
      "84           85   63   5094.0     NaN     NaN      NaN     NaN   \n",
      "85           86   47   2147.0   456.0     NaN      NaN    99.0   \n",
      "86           87   37   1728.0   229.0     NaN      NaN    87.0   \n",
      "87           88   45   1979.0   397.0     NaN      NaN    87.0   \n",
      "88           89   50   2706.0     NaN     NaN      NaN   105.0   \n",
      "89           90   50   2638.0   401.0     NaN      NaN   112.0   \n",
      "90           91    8     35.0     NaN     NaN      NaN     9.0   \n",
      "91           92    9     42.0     NaN     NaN      NaN    10.0   \n",
      "92           93    9     42.0     NaN     NaN      NaN     NaN   \n",
      "93           94    9     42.0     NaN     NaN      NaN     9.0   \n",
      "94           95   22    320.0     NaN    51.0    17.00    30.0   \n",
      "95           96    9     20.0     NaN     6.0     1.00    13.0   \n",
      "96           97   10     29.0     NaN     NaN      NaN    10.0   \n",
      "97           98   10     35.0     NaN     9.0     2.00    17.0   \n",
      "98           99   19    203.0     NaN    16.0    11.00    46.0   \n",
      "99          100   35   1090.0     NaN    66.0    24.00    92.0   \n",
      "100         101   18      NaN     NaN   100.0     9.00     NaN   \n",
      "101         102    6     10.0     NaN     NaN      NaN    11.0   \n",
      "102         103    4      7.0     NaN     NaN      NaN     6.0   \n",
      "103         104    4      3.0     NaN     NaN      NaN     5.0   \n",
      "104         105    6     13.0     NaN     NaN      NaN     5.0   \n",
      "105         106    5      9.0     NaN     NaN      NaN     8.0   \n",
      "106         107    8     20.0     NaN     NaN      NaN     9.0   \n",
      "107         108    6     16.0     NaN     NaN      NaN     6.0   \n",
      "108         109    5      7.0     NaN     NaN      NaN     8.0   \n",
      "109         110    7     29.0     NaN     NaN      NaN    14.0   \n",
      "110         111    5     12.0     NaN     NaN      NaN     8.0   \n",
      "111         112    7     25.0     NaN     NaN      NaN    16.0   \n",
      "112         113    6     10.0     NaN     NaN      NaN     9.0   \n",
      "113         114   25    506.0     NaN     NaN      NaN    45.0   \n",
      "114         115   24    508.0     NaN     NaN      NaN    65.0   \n",
      "115         116   31    817.0     NaN     NaN      NaN    95.0   \n",
      "116         117   21    274.0     NaN     NaN      NaN    31.0   \n",
      "117         118   16    162.0     NaN     NaN      NaN    25.0   \n",
      "118         119   27    540.0     NaN     NaN      NaN    55.0   \n",
      "119         120   19    272.0     NaN     NaN      NaN    52.0   \n",
      "120         121   21    293.0     NaN     NaN      NaN     NaN   \n",
      "121         122   10     77.0     NaN     NaN      NaN     NaN   \n",
      "122         123   23    408.0     NaN     NaN      NaN     NaN   \n",
      "123         124   27    550.0   105.0    44.0     9.00    59.0   \n",
      "124         125   26    414.0    78.0    38.0    13.00    44.0   \n",
      "125         126    9     42.0     8.0     5.0     1.30     7.0   \n",
      "126         127   12     85.0    13.0    17.0     2.20    16.0   \n",
      "127         128    9     35.0     NaN     NaN      NaN     9.0   \n",
      "128         129   11     60.0     NaN     NaN      NaN    13.0   \n",
      "129         130   10     60.0     NaN     NaN      NaN    12.0   \n",
      "130         131   37   1250.0     NaN     NaN      NaN    76.0   \n",
      "131         132   37    990.0     NaN     NaN      NaN    90.0   \n",
      "132         133   20    290.0     NaN     NaN      NaN    36.0   \n",
      "133         134   56   1500.0     NaN     NaN      NaN     NaN   \n",
      "134         135    9     40.0     NaN     NaN      NaN     NaN   \n",
      "135         136   17    216.0     NaN     NaN      NaN    40.0   \n",
      "136         137   17    208.0     NaN     NaN      NaN     NaN   \n",
      "137         138   10     50.0     NaN     NaN      NaN     NaN   \n",
      "138         139    6     18.0     NaN     NaN      NaN     NaN   \n",
      "139         140   22    382.0     NaN     NaN      NaN     NaN   \n",
      "140         141   15    161.0     NaN     NaN      NaN     NaN   \n",
      "141         142   15    140.0     NaN     NaN      NaN     NaN   \n",
      "142         143   19    280.0     NaN     NaN      NaN     NaN   \n",
      "143         144   11     84.0     NaN     NaN      NaN     NaN   \n",
      "144         145    9     50.0     NaN     NaN      NaN     NaN   \n",
      "145         146   25    510.0     NaN     NaN      NaN    45.0   \n",
      "146         147   22    400.0     NaN     NaN      NaN    35.0   \n",
      "147         148   10     70.0     NaN     NaN      NaN     NaN   \n",
      "148         149   12    115.0     NaN     NaN      NaN     NaN   \n",
      "149         150   48   1530.0     NaN     NaN      NaN   120.0   \n",
      "150         151   43   1540.0     NaN     NaN      NaN    60.0   \n",
      "151         152   35    720.0     NaN     NaN      NaN    60.0   \n",
      "152         153   29    560.0     NaN     NaN      NaN    42.0   \n",
      "\n",
      "             species fac26  \n",
      "0        E. maculata     z  \n",
      "1       E. pilularis     2  \n",
      "2       E. pilularis     2  \n",
      "3       E. pilularis     2  \n",
      "4        E. maculata     z  \n",
      "5      E. botryoides     z  \n",
      "6        E. maculata     z  \n",
      "7       E. pilularis     2  \n",
      "8       E. pilularis     2  \n",
      "9       E. pilularis     2  \n",
      "10      E. pilularis     2  \n",
      "11     E. botryoides     z  \n",
      "12      E. pilularis     2  \n",
      "13      E. pilularis     2  \n",
      "14      E. pilularis     2  \n",
      "15      E. pilularis     2  \n",
      "16      E. pilularis     2  \n",
      "17      E. pilularis     2  \n",
      "18      E. pilularis     2  \n",
      "19      E. pilularis     2  \n",
      "20      E. pilularis     2  \n",
      "21      E. pilularis     2  \n",
      "22      E. pilularis     2  \n",
      "23     E. botryoides     z  \n",
      "24      E. pilularis     2  \n",
      "25     E. botryoides     z  \n",
      "26   Acacia mabellae     z  \n",
      "27       E. maculata     z  \n",
      "28      E. pilularis     2  \n",
      "29      E. pilularis     2  \n",
      "30       E. maculata     z  \n",
      "31     E. botryoides     z  \n",
      "32     E. botryoides     z  \n",
      "33      E. pilularis     2  \n",
      "34       E. maculata     z  \n",
      "35      E. pilularis     2  \n",
      "36       E. maculata     z  \n",
      "37       E. maculata     z  \n",
      "38      E. pilularis     2  \n",
      "39       E. maculata     z  \n",
      "40      E. pilularis     2  \n",
      "41       E. maculata     z  \n",
      "42      E. pilularis     2  \n",
      "43      E. pilularis     2  \n",
      "44       E. maculata     z  \n",
      "45       E. maculata     z  \n",
      "46     E. botryoides     z  \n",
      "47       E. maculata     z  \n",
      "48       E. maculata     z  \n",
      "49       E. maculata     z  \n",
      "50       E. maculata     z  \n",
      "51       E. maculata     z  \n",
      "52       E. maculata     z  \n",
      "53       E. maculata     z  \n",
      "54       E. maculata   NaN  \n",
      "55       E. maculata     z  \n",
      "56       E. maculata     z  \n",
      "57       E. maculata     z  \n",
      "58       E. maculata     z  \n",
      "59       E. maculata     z  \n",
      "60   Acacia mabellae     z  \n",
      "61   Acacia mabellae     z  \n",
      "62   Acacia mabellae     z  \n",
      "63       E. maculata     z  \n",
      "64   Acacia mabellae     z  \n",
      "65       E. maculata     z  \n",
      "66       E. maculata     z  \n",
      "67       E. maculata     z  \n",
      "68       E. maculata     z  \n",
      "69      E. pilularis     2  \n",
      "70      E. pilularis     2  \n",
      "71      E. pilularis     2  \n",
      "72      E. pilularis     2  \n",
      "73      E. pilularis     2  \n",
      "74      E. pilularis     2  \n",
      "75      E. pilularis     2  \n",
      "76      E. pilularis     2  \n",
      "77      E. pilularis     2  \n",
      "78      E. pilularis     2  \n",
      "79   Acacia mabellae     z  \n",
      "80   Acacia mabellae     z  \n",
      "81   Acacia mabellae     z  \n",
      "82   Acacia mabellae     z  \n",
      "83   Acacia mabellae     z  \n",
      "84      E. pilularis     2  \n",
      "85      E. pilularis     2  \n",
      "86      E. pilularis     2  \n",
      "87      E. pilularis     2  \n",
      "88      E. pilularis     2  \n",
      "89      E. pilularis     2  \n",
      "90      E. pilularis     2  \n",
      "91      E. pilularis     2  \n",
      "92      E. pilularis     2  \n",
      "93      E. pilularis     2  \n",
      "94   Acacia mabellae     z  \n",
      "95   Acacia mabellae     z  \n",
      "96   Acacia mabellae     z  \n",
      "97   Acacia mabellae     z  \n",
      "98   Acacia mabellae     z  \n",
      "99   Acacia mabellae     z  \n",
      "100    E. botryoides     z  \n",
      "101       C. fraseri     z  \n",
      "102       C. fraseri     z  \n",
      "103       C. fraseri   NaN  \n",
      "104       C. fraseri     z  \n",
      "105       C. fraseri     z  \n",
      "106       C. fraseri   NaN  \n",
      "107       C. fraseri   NaN  \n",
      "108       C. fraseri     z  \n",
      "109       C. fraseri     z  \n",
      "110       C. fraseri   NaN  \n",
      "111       C. fraseri     z  \n",
      "112       C. fraseri     z  \n",
      "113   Acmena smithii     6  \n",
      "114   Acmena smithii     6  \n",
      "115   Acmena smithii     6  \n",
      "116   Acmena smithii     6  \n",
      "117   Acmena smithii     6  \n",
      "118   Acmena smithii     6  \n",
      "119   Acmena smithii     6  \n",
      "120   Acmena smithii     6  \n",
      "121   Acmena smithii     6  \n",
      "122   Acmena smithii     6  \n",
      "123    B. myrtifolia     z  \n",
      "124    B. myrtifolia     z  \n",
      "125    B. myrtifolia     z  \n",
      "126    B. myrtifolia     z  \n",
      "127    B. myrtifolia     z  \n",
      "128    B. myrtifolia     z  \n",
      "129    B. myrtifolia     z  \n",
      "130    B. myrtifolia     z  \n",
      "131    B. myrtifolia     z  \n",
      "132    B. myrtifolia     z  \n",
      "133    B. myrtifolia     z  \n",
      "134   Acmena smithii     6  \n",
      "135   Acmena smithii     6  \n",
      "136   Acmena smithii     6  \n",
      "137   Acmena smithii     6  \n",
      "138   Acmena smithii     6  \n",
      "139   Acmena smithii     6  \n",
      "140   Acmena smithii     6  \n",
      "141   Acmena smithii     6  \n",
      "142   Acmena smithii     6  \n",
      "143   Acmena smithii     6  \n",
      "144   Acmena smithii     6  \n",
      "145   Acmena smithii     6  \n",
      "146   Acmena smithii     6  \n",
      "147   Acmena smithii     6  \n",
      "148   Acmena smithii     6  \n",
      "149   Acmena smithii     6  \n",
      "150            Other     z  \n",
      "151            Other     z  \n",
      "152            Other     z  \n",
      "\n",
      "Данные успешно сохранены в папке 'data' (CSV и Parquet).\n",
      "\n",
      "Типы колонок после приведения\n",
      "Number        int64\n",
      "dbh           int64\n",
      "wood        float64\n",
      "bark        float64\n",
      "root        float64\n",
      "rootsk      float64\n",
      "branch      float64\n",
      "species    category\n",
      "fac26      category\n",
      "dtype: object\n",
      "Размер датафрейма: (153, 9)\n"
     ]
    },
    {
     "data": {
      "text/html": [
       "<div>\n",
       "<style scoped>\n",
       "    .dataframe tbody tr th:only-of-type {\n",
       "        vertical-align: middle;\n",
       "    }\n",
       "\n",
       "    .dataframe tbody tr th {\n",
       "        vertical-align: top;\n",
       "    }\n",
       "\n",
       "    .dataframe thead th {\n",
       "        text-align: right;\n",
       "    }\n",
       "</style>\n",
       "<table border=\"1\" class=\"dataframe\">\n",
       "  <thead>\n",
       "    <tr style=\"text-align: right;\">\n",
       "      <th></th>\n",
       "      <th>Number</th>\n",
       "      <th>dbh</th>\n",
       "      <th>wood</th>\n",
       "      <th>bark</th>\n",
       "      <th>root</th>\n",
       "      <th>rootsk</th>\n",
       "      <th>branch</th>\n",
       "      <th>species</th>\n",
       "      <th>fac26</th>\n",
       "    </tr>\n",
       "  </thead>\n",
       "  <tbody>\n",
       "    <tr>\n",
       "      <th>0</th>\n",
       "      <td>1</td>\n",
       "      <td>90</td>\n",
       "      <td>5528.0</td>\n",
       "      <td>328.0</td>\n",
       "      <td>460.0</td>\n",
       "      <td>11.0</td>\n",
       "      <td>35.0</td>\n",
       "      <td>E. maculata</td>\n",
       "      <td>z</td>\n",
       "    </tr>\n",
       "    <tr>\n",
       "      <th>1</th>\n",
       "      <td>2</td>\n",
       "      <td>106</td>\n",
       "      <td>13650.0</td>\n",
       "      <td>328.0</td>\n",
       "      <td>1500.0</td>\n",
       "      <td>665.0</td>\n",
       "      <td>35.0</td>\n",
       "      <td>E. pilularis</td>\n",
       "      <td>2</td>\n",
       "    </tr>\n",
       "    <tr>\n",
       "      <th>2</th>\n",
       "      <td>3</td>\n",
       "      <td>112</td>\n",
       "      <td>11200.0</td>\n",
       "      <td>328.0</td>\n",
       "      <td>1100.0</td>\n",
       "      <td>680.0</td>\n",
       "      <td>35.0</td>\n",
       "      <td>E. pilularis</td>\n",
       "      <td>2</td>\n",
       "    </tr>\n",
       "    <tr>\n",
       "      <th>3</th>\n",
       "      <td>4</td>\n",
       "      <td>34</td>\n",
       "      <td>1000.0</td>\n",
       "      <td>328.0</td>\n",
       "      <td>430.0</td>\n",
       "      <td>40.0</td>\n",
       "      <td>35.0</td>\n",
       "      <td>E. pilularis</td>\n",
       "      <td>2</td>\n",
       "    </tr>\n",
       "    <tr>\n",
       "      <th>4</th>\n",
       "      <td>5</td>\n",
       "      <td>130</td>\n",
       "      <td>162.0</td>\n",
       "      <td>328.0</td>\n",
       "      <td>3000.0</td>\n",
       "      <td>1030.0</td>\n",
       "      <td>35.0</td>\n",
       "      <td>E. maculata</td>\n",
       "      <td>z</td>\n",
       "    </tr>\n",
       "  </tbody>\n",
       "</table>\n",
       "</div>"
      ],
      "text/plain": [
       "   Number  dbh     wood   bark    root  rootsk  branch       species fac26\n",
       "0       1   90   5528.0  328.0   460.0    11.0    35.0   E. maculata     z\n",
       "1       2  106  13650.0  328.0  1500.0   665.0    35.0  E. pilularis     2\n",
       "2       3  112  11200.0  328.0  1100.0   680.0    35.0  E. pilularis     2\n",
       "3       4   34   1000.0  328.0   430.0    40.0    35.0  E. pilularis     2\n",
       "4       5  130    162.0  328.0  3000.0  1030.0    35.0   E. maculata     z"
      ]
     },
     "metadata": {},
     "output_type": "display_data"
    }
   ],
   "source": [
    "df = load_data()\n",
    "if df is None:\n",
    "    raise ValueError(\"Ошибка загрузки данных\")\n",
    "\n",
    "print(\"Размер датафрейма:\", df.shape)\n",
    "display(df.head())"
   ]
  },
  {
   "cell_type": "markdown",
   "id": "990c3289",
   "metadata": {},
   "source": [
    "Датасет загружен: найдено `{df.shape[0]}` строк и `{df.shape[1]}` признаков.  \n",
    "Предварительная проверка показала, что данные успешно обработаны: пропущенные значения заменены, строки уникальны."
   ]
  },
  {
   "cell_type": "markdown",
   "id": "eb8402ed",
   "metadata": {},
   "source": [
    "## Описание признаков\n",
    "\n",
    "Для анализа определены числовые и категориальные признаки."
   ]
  },
  {
   "cell_type": "code",
   "execution_count": 3,
   "id": "b09a38bf",
   "metadata": {
    "vscode": {
     "languageId": "plaintext"
    }
   },
   "outputs": [],
   "source": [
    "numeric_cols = ['dbh', 'wood', 'bark', 'root', 'rootsk', 'branch']\n",
    "categorical_cols = ['species', 'fac26']"
   ]
  },
  {
   "cell_type": "markdown",
   "id": "09f5c908",
   "metadata": {},
   "source": [
    "- Числовые признаки: dbh, wood, bark, root, rootsk, branch  \n",
    "- Категориальные признаки: species, fac26"
   ]
  },
  {
   "cell_type": "markdown",
   "id": "9a18f98a",
   "metadata": {},
   "source": [
    "## Оценка структуры данных"
   ]
  },
  {
   "cell_type": "code",
   "execution_count": 4,
   "id": "83014121",
   "metadata": {
    "vscode": {
     "languageId": "plaintext"
    }
   },
   "outputs": [
    {
     "name": "stdout",
     "output_type": "stream",
     "text": [
      "Типы признаков:\n",
      "Number        int64\n",
      "dbh           int64\n",
      "wood        float64\n",
      "bark        float64\n",
      "root        float64\n",
      "rootsk      float64\n",
      "branch      float64\n",
      "species    category\n",
      "fac26      category\n",
      "dtype: object\n",
      "Число строк: 153, число признаков: 9\n",
      "Числовые признаки: ['dbh', 'wood', 'bark', 'root', 'rootsk', 'branch']\n",
      "Категориальные признаки: ['species', 'fac26']\n"
     ]
    }
   ],
   "source": [
    "print(\"Типы признаков:\")\n",
    "print(df.dtypes)\n",
    "print(f'Число строк: {df.shape[0]}, число признаков: {df.shape[1]}')\n",
    "print(f'Числовые признаки: {numeric_cols}')\n",
    "print(f'Категориальные признаки: {categorical_cols}')"
   ]
  },
  {
   "cell_type": "markdown",
   "id": "ca31f6ac",
   "metadata": {},
   "source": [
    "Все числовые признаки имеют тип _float_, категориальные переведены в _category_.  \n",
    "Структура данных корректна для дальнейшего анализа."
   ]
  },
  {
   "cell_type": "markdown",
   "id": "812a0ece",
   "metadata": {},
   "source": [
    "## Оценка целостности данных и полноты\n",
    "\n",
    "### Пропущенные значения"
   ]
  },
  {
   "cell_type": "code",
   "execution_count": 5,
   "id": "990ed1a7",
   "metadata": {
    "vscode": {
     "languageId": "plaintext"
    }
   },
   "outputs": [
    {
     "name": "stdout",
     "output_type": "stream",
     "text": [
      "Общее число пропущенных значений: 0\n",
      "Доля пропусков по столбцам:\n"
     ]
    },
    {
     "data": {
      "text/plain": [
       "Number     0.0\n",
       "dbh        0.0\n",
       "wood       0.0\n",
       "bark       0.0\n",
       "root       0.0\n",
       "rootsk     0.0\n",
       "branch     0.0\n",
       "species    0.0\n",
       "fac26      0.0\n",
       "dtype: float64"
      ]
     },
     "metadata": {},
     "output_type": "display_data"
    }
   ],
   "source": [
    "missing_total = df.isna().sum().sum()\n",
    "missing_by_col = df.isna().mean().sort_values(ascending=False)\n",
    "print(\"Общее число пропущенных значений:\", missing_total)\n",
    "print(\"Доля пропусков по столбцам:\")\n",
    "display(missing_by_col)"
   ]
  },
  {
   "cell_type": "markdown",
   "id": "1bb6eed2",
   "metadata": {},
   "source": [
    "В результате предобработки практически все пропуски заменены — столбцы c долей пропусков выше 0.2 требуют отдельного внимательного рассмотрения.  \n",
    "В текущих данных значимых пропусков не выявлено, остальные столбцы заполнены медианно/категориально."
   ]
  },
  {
   "cell_type": "markdown",
   "id": "6f231503",
   "metadata": {},
   "source": [
    "### Дубликаты"
   ]
  },
  {
   "cell_type": "code",
   "execution_count": 6,
   "id": "fff770c6",
   "metadata": {
    "vscode": {
     "languageId": "plaintext"
    }
   },
   "outputs": [
    {
     "name": "stdout",
     "output_type": "stream",
     "text": [
      "Дубликатов: 0\n",
      "Доля дубликатов: 0.0\n"
     ]
    }
   ],
   "source": [
    "duplicates_count = df.duplicated().sum()\n",
    "print(\"Дубликатов:\", duplicates_count)\n",
    "print(\"Доля дубликатов:\", round(duplicates_count / df.shape[0], 3))"
   ]
  },
  {
   "cell_type": "markdown",
   "id": "b305ffe3",
   "metadata": {},
   "source": [
    "Дубликаты отсутствуют. Структура набора признаков уникальна - качество данных высокое."
   ]
  },
  {
   "cell_type": "markdown",
   "id": "f158ea10",
   "metadata": {},
   "source": [
    "### Уникальность и распределение категориальных признаков"
   ]
  },
  {
   "cell_type": "code",
   "execution_count": 7,
   "id": "c29770dd",
   "metadata": {
    "vscode": {
     "languageId": "plaintext"
    }
   },
   "outputs": [
    {
     "name": "stdout",
     "output_type": "stream",
     "text": [
      "Признак species: 8 уникальных значений.\n",
      "species\n",
      "E. pilularis       47\n",
      "E. maculata        30\n",
      "Acmena smithii     26\n",
      "Acacia mabellae    16\n",
      "C. fraseri         12\n",
      "B. myrtifolia      11\n",
      "E. botryoides       8\n",
      "Other               3\n",
      "Unknown             0\n",
      "Name: count, dtype: int64\n",
      "Признак fac26: 4 уникальных значений.\n",
      "fac26\n",
      "z          75\n",
      "2          47\n",
      "6          26\n",
      "Unknown     5\n",
      "Name: count, dtype: int64\n"
     ]
    }
   ],
   "source": [
    "for col in categorical_cols:\n",
    "    print(f\"Признак {col}: {df[col].nunique()} уникальных значений.\")\n",
    "    print(df[col].value_counts().head(10))"
   ]
  },
  {
   "cell_type": "markdown",
   "id": "d91c3d29",
   "metadata": {},
   "source": [
    "## Оценка выбросов и аномалий"
   ]
  },
  {
   "cell_type": "code",
   "execution_count": 8,
   "id": "8d8d37af",
   "metadata": {
    "vscode": {
     "languageId": "plaintext"
    }
   },
   "outputs": [
    {
     "name": "stdout",
     "output_type": "stream",
     "text": [
      "Признак dbh: выбросов 11, доля выбросов 0.072\n",
      "Признак wood: выбросов 29, доля выбросов 0.19\n",
      "Признак bark: выбросов 16, доля выбросов 0.105\n",
      "Признак root: выбросов 54, доля выбросов 0.353\n",
      "Признак rootsk: выбросов 52, доля выбросов 0.34\n",
      "Признак branch: выбросов 74, доля выбросов 0.484\n"
     ]
    }
   ],
   "source": [
    "def iqr_outliers(series):\n",
    "    q1, q3 = np.percentile(series.dropna(), [25, 75])\n",
    "    iqr = q3 - q1\n",
    "    lower = q1 - 1.5*iqr\n",
    "    upper = q3 + 1.5*iqr\n",
    "    outliers = ((series < lower) | (series > upper)).sum()\n",
    "    outlier_ratio = outliers / series.dropna().shape[0]\n",
    "    return outliers, outlier_ratio\n",
    "\n",
    "outlier_table = []\n",
    "for col in numeric_cols:\n",
    "    outliers, ratio = iqr_outliers(df[col])\n",
    "    outlier_table.append((col, outliers, ratio))\n",
    "    print(f'Признак {col}: выбросов {outliers}, доля выбросов {round(ratio,3)}')"
   ]
  },
  {
   "cell_type": "markdown",
   "id": "f274c44d",
   "metadata": {},
   "source": [
    "## Метрики для каждой оценки"
   ]
  },
  {
   "cell_type": "code",
   "execution_count": 9,
   "id": "27df051a",
   "metadata": {
    "vscode": {
     "languageId": "plaintext"
    }
   },
   "outputs": [
    {
     "name": "stdout",
     "output_type": "stream",
     "text": [
      "Completeness по столбцам:\n"
     ]
    },
    {
     "data": {
      "text/plain": [
       "Number     1.0\n",
       "dbh        1.0\n",
       "wood       1.0\n",
       "bark       1.0\n",
       "root       1.0\n",
       "rootsk     1.0\n",
       "branch     1.0\n",
       "species    1.0\n",
       "fac26      1.0\n",
       "dtype: float64"
      ]
     },
     "metadata": {},
     "output_type": "display_data"
    },
    {
     "name": "stdout",
     "output_type": "stream",
     "text": [
      "Duplication rate: 0.0\n"
     ]
    }
   ],
   "source": [
    "completeness = df.notna().mean()\n",
    "print(\"Completeness по столбцам:\")\n",
    "display(completeness)\n",
    "\n",
    "duplication_rate = duplicates_count / df.shape[0]\n",
    "print(\"Duplication rate:\", duplication_rate)"
   ]
  },
  {
   "cell_type": "markdown",
   "id": "f4c3bfb4",
   "metadata": {},
   "source": [
    "## Визуализация основных числовых признаков"
   ]
  },
  {
   "cell_type": "code",
   "execution_count": 10,
   "id": "68bf3587",
   "metadata": {
    "vscode": {
     "languageId": "plaintext"
    }
   },
   "outputs": [
    {
     "data": {
      "image/png": "[encoded data removed]",
      "text/plain": [
       "<Figure size 1200x2400 with 12 Axes>"
      ]
     },
     "metadata": {},
     "output_type": "display_data"
    }
   ],
   "source": [
    "n = len(numeric_cols)\n",
    "fig, axes = plt.subplots(n, 2, figsize=(12, 4*n))\n",
    "for i, col in enumerate(numeric_cols):\n",
    "    sns.histplot(df[col], bins=20, kde=True, ax=axes[i,0], color='skyblue')\n",
    "    axes[i,0].set_title(f'Гистограмма {col}')\n",
    "    sns.boxplot(x=df[col], ax=axes[i,1], color='lightgreen')\n",
    "    axes[i,1].set_title(f'Boxplot {col}')\n",
    "plt.tight_layout()\n",
    "plt.show()"
   ]
  },
  {
   "cell_type": "markdown",
   "id": "a4704472",
   "metadata": {},
   "source": [
    "Распределения признаков визуализированы: можно оценить форму, наличие выбросов, вариативность и особенности каждого."
   ]
  },
  {
   "cell_type": "markdown",
   "id": "e181b06f",
   "metadata": {},
   "source": [
    "## Корреляция между числовыми признаками"
   ]
  },
  {
   "cell_type": "code",
   "execution_count": 11,
   "id": "9adf1a2a",
   "metadata": {
    "vscode": {
     "languageId": "plaintext"
    }
   },
   "outputs": [
    {
     "data": {
      "image/png": "[encoded data removed]",
      "text/plain": [
       "<Figure size 800x600 with 2 Axes>"
      ]
     },
     "metadata": {},
     "output_type": "display_data"
    }
   ],
   "source": [
    "plt.figure(figsize=(8,6))\n",
    "sns.heatmap(df[numeric_cols].corr(), annot=True, cmap='coolwarm', fmt='.2f')\n",
    "plt.title('Корреляция между числовыми признаками')\n",
    "plt.show()"
   ]
  },
  {
   "cell_type": "markdown",
   "id": "9e400fb6",
   "metadata": {},
   "source": [
    "Корреляция между числовыми признаками - позволяет выявить связанные признаки для сокращения размерности и оптимизации будущих моделей."
   ]
  },
  {
   "cell_type": "markdown",
   "id": "b4342e31",
   "metadata": {},
   "source": [
    "## Краткие выводы по EDA\n",
    "\n",
    "- Датасет успешно обработан, основные признаки заполнены и структурированы.\n",
    "- Пропусков в ключевых столбцах и дубликатов нет.\n",
    "- Категориальные признаки сбалансированы, покрывают достаточное число видов.\n",
    "- Выбросы обнаружены лишь в отдельных столбцах — требуют дальнейшего анализа.\n",
    "- Распределения и корреляции свидетельствуют о качестве структуры для последующих задач.\n",
    "\n",
    "Рекомендации:  \n",
    "- Дальнейшее моделирование проводить после финальной проверки выбросов.\n",
    "- Категориальные признаки при необходимости агрегировать.\n",
    "- Все показатели метрик указывают на высокое качество исходных данных."
   ]
  },
  {
   "cell_type": "markdown",
   "id": "a00b65dc-9077-4f13-a49f-de4f18518042",
   "metadata": {},
   "source": [
    "# Дополнительные визуализации для EDA\n",
    "\n",
    "В этом разделе приведены разнообразные графики с помощью Seaborn.  \n",
    "Каждая визуализация сопровождается пояснениями.  \n",
    "Использован единый стиль (параметры set_theme и rcParams), графики выведены в сетке."
   ]
  },
  {
   "cell_type": "markdown",
   "id": "a466bff4-172e-48be-9020-6e1b74255081",
   "metadata": {},
   "source": [
    "Настраиваем единый стиль палитры, сетку и размер шрифта для всех графиков"
   ]
  },
  {
   "cell_type": "code",
   "execution_count": 16,
   "id": "5f9d0afa-0549-4d33-823f-037da088a00a",
   "metadata": {},
   "outputs": [],
   "source": [
    "sns.set_theme(style=\"whitegrid\", palette=\"Set2\", font_scale=1.2)\n",
    "plt.rcParams[\"axes.titlesize\"] = 14\n",
    "plt.rcParams[\"axes.labelsize\"] = 12\n"
   ]
  },
  {
   "cell_type": "markdown",
   "id": "932e0451-6497-4233-a3d1-e75e00fd3fe5",
   "metadata": {},
   "source": [
    "## Violin plot и Swarm plot: сравнение распределений\n",
    "\n",
    "Violin plot позволяет визуализировать форму распределения числового признака по категориям.\n",
    "Swarm plot показывает плотность объектов и индивидуальные точки, что удобно для диагностики выбросов и групп."
   ]
  },
  {
   "cell_type": "code",
   "execution_count": 15,
   "id": "f30ed9b6-0959-4d50-8db3-6d255556eb38",
   "metadata": {},
   "outputs": [
    {
     "data": {
      "image/png": "[encoded data removed]",
      "text/plain": [
       "<Figure size 1600x500 with 2 Axes>"
      ]
     },
     "metadata": {},
     "output_type": "display_data"
    }
   ],
   "source": [
    "fig, axes = plt.subplots(1, 2, figsize=(16, 5))\n",
    "\n",
    "sns.violinplot(x=\"species\", y=\"dbh\", data=df, ax=axes[0])\n",
    "axes[0].set_title(\"Violin plot: dbh по species\")\n",
    "axes[0].tick_params(axis='x', rotation=45)\n",
    "\n",
    "sns.stripplot(\n",
    "    x=\"fac26\", y=\"wood\", hue=\"fac26\", data=df, ax=axes[1],\n",
    "    palette=\"deep\", jitter=True, size=3, alpha=0.7, dodge=False, legend=False\n",
    ")\n",
    "\n",
    "axes[1].set_title(\"Stripplot с jitter: wood по fac26\")\n",
    "\n",
    "plt.tight_layout()\n",
    "plt.show()"
   ]
  },
  {
   "cell_type": "markdown",
   "id": "abb4d362-3acb-4831-b9ee-c0e22a893ddb",
   "metadata": {},
   "source": [
    "## KDE plot (плотности) по видам\n",
    "\n",
    "KDE plot отражает вероятностную плотность распределения признака, удобно сравнивать различные группы между собой.\n"
   ]
  },
  {
   "cell_type": "code",
   "execution_count": 11,
   "id": "2ea75a42-dd63-4163-998a-46390c90b556",
   "metadata": {},
   "outputs": [
    {
     "data": {
      "image/png": "[encoded data removed]",
      "text/plain": [
       "<Figure size 800x500 with 1 Axes>"
      ]
     },
     "metadata": {},
     "output_type": "display_data"
    }
   ],
   "source": [
    "plt.figure(figsize=(8,5))\n",
    "for s in df['species'].cat.categories:\n",
    "    mask = df['species'] == s\n",
    "    if mask.any():\n",
    "        sns.kdeplot(df.loc[mask, \"wood\"], label=s)\n",
    "plt.title(\"Плотности признака wood по species\")\n",
    "plt.xlabel(\"wood\")\n",
    "plt.legend()\n",
    "plt.show()\n"
   ]
  },
  {
   "cell_type": "markdown",
   "id": "029a4fe6-21ce-43ae-8f28-0f85df5e4efa",
   "metadata": {},
   "source": [
    "## FacetGrid: boxplot dbh по species и fac26\n",
    "\n",
    "Сетка из boxplot и facet позволяет изучать различия между подгруппами сразу по двум категориальным переменным.\n"
   ]
  },
  {
   "cell_type": "code",
   "execution_count": 12,
   "id": "c8be71db-cd79-4e2e-87e5-5723cb266ef2",
   "metadata": {},
   "outputs": [
    {
     "data": {
      "image/png": "[encoded data removed]",
      "text/plain": [
       "<Figure size 2000x400 with 4 Axes>"
      ]
     },
     "metadata": {},
     "output_type": "display_data"
    }
   ],
   "source": [
    "g = sns.FacetGrid(df, col=\"fac26\", height=4, aspect=1.25, sharey=True)\n",
    "g.map(sns.boxplot, \"species\", \"dbh\", order=df['species'].cat.categories)\n",
    "g.set_titles('fac26: {col_name}')\n",
    "for ax in g.axes.flat:\n",
    "    for label in ax.get_xticklabels():\n",
    "        label.set_rotation(45)\n",
    "plt.suptitle('Boxplot dbh по species в разрезе fac26', fontsize=15, y=1.06)\n",
    "plt.show()\n"
   ]
  },
  {
   "cell_type": "markdown",
   "id": "a864e331-a9f5-4747-8ab7-630f923ab3f5",
   "metadata": {},
   "source": [
    "## Интерактивная визуализация с Plotly Express\n",
    "\n",
    "Ниже представлены примеры динамических графиков с помощью Plotly Express.\n",
    "Они интерактивны: поддерживают zoom, навигацию и всплывающие подсказки.\n"
   ]
  },
  {
   "cell_type": "code",
   "execution_count": 17,
   "id": "419acdf0-4f7a-42ad-ba86-fac599bc4abb",
   "metadata": {},
   "outputs": [
    {
     "data": {
      "application/vnd.plotly.v1+json": {
       "config": {
        "plotlyServerURL": "https://plot.ly"
       },
       "data": [
        {
         "customdata": [
          [
           "z"
          ],
          [
           "z"
          ],
          [
           "z"
          ],
          [
           "z"
          ],
          [
           "z"
          ],
          [
           "z"
          ],
          [
           "z"
          ],
          [
           "z"
          ],
          [
           "z"
          ],
          [
           "z"
          ],
          [
           "z"
          ],
          [
           "z"
          ],
          [
           "z"
          ],
          [
           "z"
          ],
          [
           "z"
          ],
          [
           "z"
          ],
          [
           "z"
          ],
          [
           "z"
          ],
          [
           "z"
          ],
          [
           "Unknown"
          ],
          [
           "z"
          ],
          [
           "z"
          ],
          [
           "z"
          ],
          [
           "z"
          ],
          [
           "z"
          ],
          [
           "z"
          ],
          [
           "z"
          ],
          [
           "z"
          ],
          [
           "z"
          ],
          [
           "z"
          ]
         ],
         "hovertemplate": "species=E. maculata<br>dbh=%{x}<br>wood=%{y}<br>branch=%{marker.size}<br>fac26=%{customdata[0]}<extra></extra>",
         "legendgroup": "E. maculata",
         "marker": {
          "color": "#636efa",
          "size": {
           "bdata": "AAAAAACAQUAAAAAAAIBBQAAAAAAAgEFAAAAAAACAQUAAAAAAAABNQAAAAAAAgEFAAAAAAACAQUAAAAAAAAA1QAAAAAAAADBAAAAAAAAAJkAAAAAAACBxQAAAAAAAMHdAAAAAAACAQUAAAAAAAIBBQAAAAAAAgEFAAAAAAACAQUAAAAAAAIBBQAAAAAAAABxAAAAAAACAQUAAAAAAAAAmQAAAAAAAgEFAAAAAAACAQUAAAAAAAIBBQAAAAAAAgEFAAAAAAACAQUAAAAAAAMBhQAAAAAAAAGJAAAAAAACgYEAAAAAAAOBiQAAAAAAAcHFA",
           "dtype": "f8"
          },
          "sizemode": "area",
          "sizeref": 0.9275,
          "symbol": "circle"
         },
         "mode": "markers",
         "name": "E. maculata",
         "orientation": "v",
         "showlegend": true,
         "type": "scatter",
         "x": {
          "bdata": "WgCCACcABAA2AIIACwAPAAwADgA8AGQAkQAHAAcABgAHAAgACQAMAAQABQAHAAQABAA2ACsAKQA3ADcA",
          "dtype": "i2"
         },
         "xaxis": "x",
         "y": {
          "bdata": "AAAAAACYtUAAAAAAAEBkQAAAAAAA+JBAAAAAAABAZEAAAAAAAOSvQAAAAAAAh9hAAAAAAACAWEAAAAAAAMBnQAAAAAAAgFtAAAAAAADgYkAAAAAAAHywQAAAAAAAos9AAAAAAADH1UAAAAAAAAAqQAAAAAAAADFAAAAAAAAAJkAAAAAAAAAwQAAAAAAAADRAAAAAAAAAP0AAAAAAAABOQAAAAAAAABhAAAAAAAAAGEAAAAAAAAA1QAAAAAAAABBAAAAAAAAACEAAAAAAAMipQAAAAAAAMKFAAAAAAACcmEAAAAAAAP6wQAAAAAAAcKdA",
          "dtype": "f8"
         },
         "yaxis": "y"
        },
        {
         "customdata": [
          [
           "2"
          ],
          [
           "2"
          ],
          [
           "2"
          ],
          [
           "2"
          ],
          [
           "2"
          ],
          [
           "2"
          ],
          [
           "2"
          ],
          [
           "2"
          ],
          [
           "2"
          ],
          [
           "2"
          ],
          [
           "2"
          ],
          [
           "2"
          ],
          [
           "2"
          ],
          [
           "2"
          ],
          [
           "2"
          ],
          [
           "2"
          ],
          [
           "2"
          ],
          [
           "2"
          ],
          [
           "2"
          ],
          [
           "2"
          ],
          [
           "2"
          ],
          [
           "2"
          ],
          [
           "2"
          ],
          [
           "2"
          ],
          [
           "2"
          ],
          [
           "2"
          ],
          [
           "2"
          ],
          [
           "2"
          ],
          [
           "2"
          ],
          [
           "2"
          ],
          [
           "2"
          ],
          [
           "2"
          ],
          [
           "2"
          ],
          [
           "2"
          ],
          [
           "2"
          ],
          [
           "2"
          ],
          [
           "2"
          ],
          [
           "2"
          ],
          [
           "2"
          ],
          [
           "2"
          ],
          [
           "2"
          ],
          [
           "2"
          ],
          [
           "2"
          ],
          [
           "2"
          ],
          [
           "2"
          ],
          [
           "2"
          ],
          [
           "2"
          ]
         ],
         "hovertemplate": "species=E. pilularis<br>dbh=%{x}<br>wood=%{y}<br>branch=%{marker.size}<br>fac26=%{customdata[0]}<extra></extra>",
         "legendgroup": "E. pilularis",
         "marker": {
          "color": "#EF553B",
          "size": {
           "bdata": "AAAAAACAQUAAAAAAAIBBQAAAAAAAgEFAAAAAAACAQUAAAAAAAIBBQAAAAAAAgEFAAAAAAACAQUAAAAAAAIBBQAAAAAAAgEFAAAAAAACAQUAAAAAAAIBBQAAAAAAAgEFAAAAAAACAQUAAAAAAAIBBQAAAAAAAgEFAAAAAAACAQUAAAAAAAIBBQAAAAAAAgEFAAAAAAACAQUAAAAAAAIBBQAAAAAAAgEFAAAAAAAAAMkAAAAAAAIBBQAAAAAAAADFAAAAAAAAAMUAAAAAAAIBBQAAAAAAAgEFAAAAAAAAAIEAAAAAAAIBBQAAAAAAAACBAAAAAAACAQUAAAAAAAIBBQAAAAAAAgEFAAAAAAACAQUAAAAAAAIBBQAAAAAAAgEFAAAAAAACAQUAAAAAAAIBBQAAAAAAAwFhAAAAAAADAVUAAAAAAAMBVQAAAAAAAQFpAAAAAAAAAXEAAAAAAAAAiQAAAAAAAACRAAAAAAACAQUAAAAAAAAAiQA==",
           "dtype": "f8"
          },
          "sizemode": "area",
          "sizeref": 0.9275,
          "symbol": "circle"
         },
         "mode": "markers",
         "name": "E. pilularis",
         "orientation": "v",
         "showlegend": true,
         "type": "scatter",
         "x": {
          "bdata": "anAiMh4nZ25NBQcaCAgJDlUGLiQWEQ0PDRALCwMKBAUHBggFCD8vJS0yMggJCQk=",
          "dtype": "i1"
         },
         "xaxis": "x",
         "y": {
          "bdata": "AAAAAACpykAAAAAAAODFQAAAAAAAQI9AAAAAAABAZEAAAAAAAEBkQAAAAAAAQGRAAAAAAAASzkAAAAAAQGzRQAAAAAAAQGRAAAAAAABAZEAAAAAAAEBkQAAAAAAAQGRAAAAAAABAZEAAAAAAAEBkQAAAAAAAQGRAAAAAAABAZEAAAAAAAEBkQAAAAAAAQGRAAAAAAABAZEAAAAAAAKiRQAAAAAAAgHtAAAAAAAAAaEAAAAAAAIBfQAAAAAAAAGVAAAAAAABAZUAAAAAAAEBlQAAAAAAAQFRAAAAAAACAUkAAAAAAAAAIQAAAAAAAAExAAAAAAAAAFEAAAAAAAAAuQAAAAAAAADtAAAAAAAAAKEAAAAAAAAA5QAAAAAAAACBAAAAAAAAAPUAAAAAAAOazQAAAAAAAxqBAAAAAAAAAm0AAAAAAAOyeQAAAAAAAJKVAAAAAAACcpEAAAAAAAIBBQAAAAAAAAEVAAAAAAAAARUAAAAAAAABFQA==",
          "dtype": "f8"
         },
         "yaxis": "y"
        },
        {
         "customdata": [
          [
           "z"
          ],
          [
           "z"
          ],
          [
           "z"
          ],
          [
           "z"
          ],
          [
           "z"
          ],
          [
           "z"
          ],
          [
           "z"
          ],
          [
           "z"
          ]
         ],
         "hovertemplate": "species=E. botryoides<br>dbh=%{x}<br>wood=%{y}<br>branch=%{marker.size}<br>fac26=%{customdata[0]}<extra></extra>",
         "legendgroup": "E. botryoides",
         "marker": {
          "color": "#00cc96",
          "size": {
           "bdata": "AAAAAACAV0AAAAAAAMBUQAAAAAAAgEFAAAAAAACAQUAAAAAAAABMQAAAAAAAQFhAAAAAAACAQUAAAAAAAIBBQA==",
           "dtype": "f8"
          },
          "sizemode": "area",
          "sizeref": 0.9275,
          "symbol": "circle"
         },
         "mode": "markers",
         "name": "E. botryoides",
         "orientation": "v",
         "showlegend": true,
         "type": "scatter",
         "x": {
          "bdata": "VjIYHCUsMhI=",
          "dtype": "i1"
         },
         "xaxis": "x",
         "y": {
          "bdata": "AAAAAABzu0AAAAAAAM6nQAAAAAAAQGRAAAAAAABAZEAAAAAAAKyVQAAAAAAAXqNAAAAAAAAap0AAAAAAAEBkQA==",
          "dtype": "f8"
         },
         "yaxis": "y"
        },
        {
         "customdata": [
          [
           "z"
          ],
          [
           "z"
          ],
          [
           "z"
          ],
          [
           "z"
          ],
          [
           "z"
          ],
          [
           "z"
          ],
          [
           "z"
          ],
          [
           "z"
          ],
          [
           "z"
          ],
          [
           "z"
          ],
          [
           "z"
          ],
          [
           "z"
          ],
          [
           "z"
          ],
          [
           "z"
          ],
          [
           "z"
          ],
          [
           "z"
          ]
         ],
         "hovertemplate": "species=Acacia mabellae<br>dbh=%{x}<br>wood=%{y}<br>branch=%{marker.size}<br>fac26=%{customdata[0]}<extra></extra>",
         "legendgroup": "Acacia mabellae",
         "marker": {
          "color": "#ab63fa",
          "size": {
           "bdata": "AAAAAACAQUAAAAAAAIBBQAAAAAAAgERAAAAAAAAASUAAAAAAAIBBQAAAAAAAgEFAAAAAAACAQUAAAAAAAIBBQAAAAAAAgEFAAAAAAAAAEEAAAAAAAAA+QAAAAAAAACpAAAAAAAAAJEAAAAAAAAAxQAAAAAAAAEdAAAAAAAAAV0A=",
           "dtype": "f8"
          },
          "sizemode": "area",
          "sizeref": 0.9275,
          "symbol": "circle"
         },
         "mode": "markers",
         "name": "Acacia mabellae",
         "orientation": "v",
         "showlegend": true,
         "type": "scatter",
         "x": {
          "bdata": "BhcUFxgFBQgKCBYJCgoTIw==",
          "dtype": "i1"
         },
         "xaxis": "x",
         "y": {
          "bdata": "AAAAAABAZEAAAAAAABB2QAAAAAAAAGpAAAAAAADQe0AAAAAAAHCCQAAAAAAAACxAAAAAAAAAJEAAAAAAAAA/QAAAAAAAgE1AAAAAAAAAPkAAAAAAAAB0QAAAAAAAADRAAAAAAAAAPUAAAAAAAIBBQAAAAAAAYGlAAAAAAAAIkUA=",
          "dtype": "f8"
         },
         "yaxis": "y"
        },
        {
         "customdata": [
          [
           "z"
          ],
          [
           "z"
          ],
          [
           "Unknown"
          ],
          [
           "z"
          ],
          [
           "z"
          ],
          [
           "Unknown"
          ],
          [
           "Unknown"
          ],
          [
           "z"
          ],
          [
           "z"
          ],
          [
           "Unknown"
          ],
          [
           "z"
          ],
          [
           "z"
          ]
         ],
         "hovertemplate": "species=C. fraseri<br>dbh=%{x}<br>wood=%{y}<br>branch=%{marker.size}<br>fac26=%{customdata[0]}<extra></extra>",
         "legendgroup": "C. fraseri",
         "marker": {
          "color": "#FFA15A",
          "size": {
           "bdata": "AAAAAAAAJkAAAAAAAAAYQAAAAAAAABRAAAAAAAAAFEAAAAAAAAAgQAAAAAAAACJAAAAAAAAAGEAAAAAAAAAgQAAAAAAAACxAAAAAAAAAIEAAAAAAAAAwQAAAAAAAACJA",
           "dtype": "f8"
          },
          "sizemode": "area",
          "sizeref": 0.9275,
          "symbol": "circle"
         },
         "mode": "markers",
         "name": "C. fraseri",
         "orientation": "v",
         "showlegend": true,
         "type": "scatter",
         "x": {
          "bdata": "BgQEBgUIBgUHBQcG",
          "dtype": "i1"
         },
         "xaxis": "x",
         "y": {
          "bdata": "AAAAAAAAJEAAAAAAAAAcQAAAAAAAAAhAAAAAAAAAKkAAAAAAAAAiQAAAAAAAADRAAAAAAAAAMEAAAAAAAAAcQAAAAAAAAD1AAAAAAAAAKEAAAAAAAAA5QAAAAAAAACRA",
          "dtype": "f8"
         },
         "yaxis": "y"
        },
        {
         "customdata": [
          [
           "6"
          ],
          [
           "6"
          ],
          [
           "6"
          ],
          [
           "6"
          ],
          [
           "6"
          ],
          [
           "6"
          ],
          [
           "6"
          ],
          [
           "6"
          ],
          [
           "6"
          ],
          [
           "6"
          ],
          [
           "6"
          ],
          [
           "6"
          ],
          [
           "6"
          ],
          [
           "6"
          ],
          [
           "6"
          ],
          [
           "6"
          ],
          [
           "6"
          ],
          [
           "6"
          ],
          [
           "6"
          ],
          [
           "6"
          ],
          [
           "6"
          ],
          [
           "6"
          ],
          [
           "6"
          ],
          [
           "6"
          ],
          [
           "6"
          ],
          [
           "6"
          ]
         ],
         "hovertemplate": "species=Acmena smithii<br>dbh=%{x}<br>wood=%{y}<br>branch=%{marker.size}<br>fac26=%{customdata[0]}<extra></extra>",
         "legendgroup": "Acmena smithii",
         "marker": {
          "color": "#19d3f3",
          "size": {
           "bdata": "AAAAAACARkAAAAAAAEBQQAAAAAAAwFdAAAAAAAAAP0AAAAAAAAA5QAAAAAAAgEtAAAAAAAAASkAAAAAAAIBBQAAAAAAAgEFAAAAAAACAQUAAAAAAAIBBQAAAAAAAAERAAAAAAACAQUAAAAAAAIBBQAAAAAAAgEFAAAAAAACAQUAAAAAAAIBBQAAAAAAAgEFAAAAAAACAQUAAAAAAAIBBQAAAAAAAgEFAAAAAAACARkAAAAAAAIBBQAAAAAAAgEFAAAAAAACAQUAAAAAAAABeQA==",
           "dtype": "f8"
          },
          "sizemode": "area",
          "sizeref": 0.9275,
          "symbol": "circle"
         },
         "mode": "markers",
         "name": "Acmena smithii",
         "orientation": "v",
         "showlegend": true,
         "type": "scatter",
         "x": {
          "bdata": "GRgfFRAbExUKFwkREQoGFg8PEwsJGRYKDDA=",
          "dtype": "i1"
         },
         "xaxis": "x",
         "y": {
          "bdata": "AAAAAACgf0AAAAAAAMB/QAAAAAAAiIlAAAAAAAAgcUAAAAAAAEBkQAAAAAAA4IBAAAAAAAAAcUAAAAAAAFByQAAAAAAAQFNAAAAAAACAeUAAAAAAAABEQAAAAAAAAGtAAAAAAAAAakAAAAAAAABJQAAAAAAAADJAAAAAAADgd0AAAAAAACBkQAAAAAAAgGFAAAAAAACAcUAAAAAAAABVQAAAAAAAAElAAAAAAADgf0AAAAAAAAB5QAAAAAAAgFFAAAAAAADAXEAAAAAAAOiXQA==",
          "dtype": "f8"
         },
         "yaxis": "y"
        },
        {
         "customdata": [
          [
           "z"
          ],
          [
           "z"
          ],
          [
           "z"
          ],
          [
           "z"
          ],
          [
           "z"
          ],
          [
           "z"
          ],
          [
           "z"
          ],
          [
           "z"
          ],
          [
           "z"
          ],
          [
           "z"
          ],
          [
           "z"
          ]
         ],
         "hovertemplate": "species=B. myrtifolia<br>dbh=%{x}<br>wood=%{y}<br>branch=%{marker.size}<br>fac26=%{customdata[0]}<extra></extra>",
         "legendgroup": "B. myrtifolia",
         "marker": {
          "color": "#FF6692",
          "size": {
           "bdata": "AAAAAACATUAAAAAAAABGQAAAAAAAABxAAAAAAAAAMEAAAAAAAAAiQAAAAAAAACpAAAAAAAAAKEAAAAAAAABTQAAAAAAAgFZAAAAAAAAAQkAAAAAAAIBBQA==",
           "dtype": "f8"
          },
          "sizemode": "area",
          "sizeref": 0.9275,
          "symbol": "circle"
         },
         "mode": "markers",
         "name": "B. myrtifolia",
         "orientation": "v",
         "showlegend": true,
         "type": "scatter",
         "x": {
          "bdata": "GxoJDAkLCiUlFDg=",
          "dtype": "i1"
         },
         "xaxis": "x",
         "y": {
          "bdata": "AAAAAAAwgUAAAAAAAOB5QAAAAAAAAEVAAAAAAABAVUAAAAAAAIBBQAAAAAAAAE5AAAAAAAAATkAAAAAAAIiTQAAAAAAA8I5AAAAAAAAgckAAAAAAAHCXQA==",
          "dtype": "f8"
         },
         "yaxis": "y"
        },
        {
         "customdata": [
          [
           "z"
          ],
          [
           "z"
          ],
          [
           "z"
          ]
         ],
         "hovertemplate": "species=Other<br>dbh=%{x}<br>wood=%{y}<br>branch=%{marker.size}<br>fac26=%{customdata[0]}<extra></extra>",
         "legendgroup": "Other",
         "marker": {
          "color": "#B6E880",
          "size": {
           "bdata": "AAAAAAAATkAAAAAAAABOQAAAAAAAAEVA",
           "dtype": "f8"
          },
          "sizemode": "area",
          "sizeref": 0.9275,
          "symbol": "circle"
         },
         "mode": "markers",
         "name": "Other",
         "orientation": "v",
         "showlegend": true,
         "type": "scatter",
         "x": {
          "bdata": "KyMd",
          "dtype": "i1"
         },
         "xaxis": "x",
         "y": {
          "bdata": "AAAAAAAQmEAAAAAAAICGQAAAAAAAgIFA",
          "dtype": "f8"
         },
         "yaxis": "y"
        }
       ],
       "layout": {
        "legend": {
         "itemsizing": "constant",
         "title": {
          "text": "species"
         },
         "tracegroupgap": 0
        },
        "template": {
         "data": {
          "bar": [
           {
            "error_x": {
             "color": "#2a3f5f"
            },
            "error_y": {
             "color": "#2a3f5f"
            },
            "marker": {
             "line": {
              "color": "white",
              "width": 0.5
             },
             "pattern": {
              "fillmode": "overlay",
              "size": 10,
              "solidity": 0.2
             }
            },
            "type": "bar"
           }
          ],
          "barpolar": [
           {
            "marker": {
             "line": {
              "color": "white",
              "width": 0.5
             },
             "pattern": {
              "fillmode": "overlay",
              "size": 10,
              "solidity": 0.2
             }
            },
            "type": "barpolar"
           }
          ],
          "carpet": [
           {
            "aaxis": {
             "endlinecolor": "#2a3f5f",
             "gridcolor": "#C8D4E3",
             "linecolor": "#C8D4E3",
             "minorgridcolor": "#C8D4E3",
             "startlinecolor": "#2a3f5f"
            },
            "baxis": {
             "endlinecolor": "#2a3f5f",
             "gridcolor": "#C8D4E3",
             "linecolor": "#C8D4E3",
             "minorgridcolor": "#C8D4E3",
             "startlinecolor": "#2a3f5f"
            },
            "type": "carpet"
           }
          ],
          "choropleth": [
           {
            "colorbar": {
             "outlinewidth": 0,
             "ticks": ""
            },
            "type": "choropleth"
           }
          ],
          "contour": [
           {
            "colorbar": {
             "outlinewidth": 0,
             "ticks": ""
            },
            "colorscale": [
             [
              0,
              "#0d0887"
             ],
             [
              0.1111111111111111,
              "#46039f"
             ],
             [
              0.2222222222222222,
              "#7201a8"
             ],
             [
              0.3333333333333333,
              "#9c179e"
             ],
             [
              0.4444444444444444,
              "#bd3786"
             ],
             [
              0.5555555555555556,
              "#d8576b"
             ],
             [
              0.6666666666666666,
              "#ed7953"
             ],
             [
              0.7777777777777778,
              "#fb9f3a"
             ],
             [
              0.8888888888888888,
              "#fdca26"
             ],
             [
              1,
              "#f0f921"
             ]
            ],
            "type": "contour"
           }
          ],
          "contourcarpet": [
           {
            "colorbar": {
             "outlinewidth": 0,
             "ticks": ""
            },
            "type": "contourcarpet"
           }
          ],
          "heatmap": [
           {
            "colorbar": {
             "outlinewidth": 0,
             "ticks": ""
            },
            "colorscale": [
             [
              0,
              "#0d0887"
             ],
             [
              0.1111111111111111,
              "#46039f"
             ],
             [
              0.2222222222222222,
              "#7201a8"
             ],
             [
              0.3333333333333333,
              "#9c179e"
             ],
             [
              0.4444444444444444,
              "#bd3786"
             ],
             [
              0.5555555555555556,
              "#d8576b"
             ],
             [
              0.6666666666666666,
              "#ed7953"
             ],
             [
              0.7777777777777778,
              "#fb9f3a"
             ],
             [
              0.8888888888888888,
              "#fdca26"
             ],
             [
              1,
              "#f0f921"
             ]
            ],
            "type": "heatmap"
           }
          ],
          "histogram": [
           {
            "marker": {
             "pattern": {
              "fillmode": "overlay",
              "size": 10,
              "solidity": 0.2
             }
            },
            "type": "histogram"
           }
          ],
          "histogram2d": [
           {
            "colorbar": {
             "outlinewidth": 0,
             "ticks": ""
            },
            "colorscale": [
             [
              0,
              "#0d0887"
             ],
             [
              0.1111111111111111,
              "#46039f"
             ],
             [
              0.2222222222222222,
              "#7201a8"
             ],
             [
              0.3333333333333333,
              "#9c179e"
             ],
             [
              0.4444444444444444,
              "#bd3786"
             ],
             [
              0.5555555555555556,
              "#d8576b"
             ],
             [
              0.6666666666666666,
              "#ed7953"
             ],
             [
              0.7777777777777778,
              "#fb9f3a"
             ],
             [
              0.8888888888888888,
              "#fdca26"
             ],
             [
              1,
              "#f0f921"
             ]
            ],
            "type": "histogram2d"
           }
          ],
          "histogram2dcontour": [
           {
            "colorbar": {
             "outlinewidth": 0,
             "ticks": ""
            },
            "colorscale": [
             [
              0,
              "#0d0887"
             ],
             [
              0.1111111111111111,
              "#46039f"
             ],
             [
              0.2222222222222222,
              "#7201a8"
             ],
             [
              0.3333333333333333,
              "#9c179e"
             ],
             [
              0.4444444444444444,
              "#bd3786"
             ],
             [
              0.5555555555555556,
              "#d8576b"
             ],
             [
              0.6666666666666666,
              "#ed7953"
             ],
             [
              0.7777777777777778,
              "#fb9f3a"
             ],
             [
              0.8888888888888888,
              "#fdca26"
             ],
             [
              1,
              "#f0f921"
             ]
            ],
            "type": "histogram2dcontour"
           }
          ],
          "mesh3d": [
           {
            "colorbar": {
             "outlinewidth": 0,
             "ticks": ""
            },
            "type": "mesh3d"
           }
          ],
          "parcoords": [
           {
            "line": {
             "colorbar": {
              "outlinewidth": 0,
              "ticks": ""
             }
            },
            "type": "parcoords"
           }
          ],
          "pie": [
           {
            "automargin": true,
            "type": "pie"
           }
          ],
          "scatter": [
           {
            "fillpattern": {
             "fillmode": "overlay",
             "size": 10,
             "solidity": 0.2
            },
            "type": "scatter"
           }
          ],
          "scatter3d": [
           {
            "line": {
             "colorbar": {
              "outlinewidth": 0,
              "ticks": ""
             }
            },
            "marker": {
             "colorbar": {
              "outlinewidth": 0,
              "ticks": ""
             }
            },
            "type": "scatter3d"
           }
          ],
          "scattercarpet": [
           {
            "marker": {
             "colorbar": {
              "outlinewidth": 0,
              "ticks": ""
             }
            },
            "type": "scattercarpet"
           }
          ],
          "scattergeo": [
           {
            "marker": {
             "colorbar": {
              "outlinewidth": 0,
              "ticks": ""
             }
            },
            "type": "scattergeo"
           }
          ],
          "scattergl": [
           {
            "marker": {
             "colorbar": {
              "outlinewidth": 0,
              "ticks": ""
             }
            },
            "type": "scattergl"
           }
          ],
          "scattermap": [
           {
            "marker": {
             "colorbar": {
              "outlinewidth": 0,
              "ticks": ""
             }
            },
            "type": "scattermap"
           }
          ],
          "scattermapbox": [
           {
            "marker": {
             "colorbar": {
              "outlinewidth": 0,
              "ticks": ""
             }
            },
            "type": "scattermapbox"
           }
          ],
          "scatterpolar": [
           {
            "marker": {
             "colorbar": {
              "outlinewidth": 0,
              "ticks": ""
             }
            },
            "type": "scatterpolar"
           }
          ],
          "scatterpolargl": [
           {
            "marker": {
             "colorbar": {
              "outlinewidth": 0,
              "ticks": ""
             }
            },
            "type": "scatterpolargl"
           }
          ],
          "scatterternary": [
           {
            "marker": {
             "colorbar": {
              "outlinewidth": 0,
              "ticks": ""
             }
            },
            "type": "scatterternary"
           }
          ],
          "surface": [
           {
            "colorbar": {
             "outlinewidth": 0,
             "ticks": ""
            },
            "colorscale": [
             [
              0,
              "#0d0887"
             ],
             [
              0.1111111111111111,
              "#46039f"
             ],
             [
              0.2222222222222222,
              "#7201a8"
             ],
             [
              0.3333333333333333,
              "#9c179e"
             ],
             [
              0.4444444444444444,
              "#bd3786"
             ],
             [
              0.5555555555555556,
              "#d8576b"
             ],
             [
              0.6666666666666666,
              "#ed7953"
             ],
             [
              0.7777777777777778,
              "#fb9f3a"
             ],
             [
              0.8888888888888888,
              "#fdca26"
             ],
             [
              1,
              "#f0f921"
             ]
            ],
            "type": "surface"
           }
          ],
          "table": [
           {
            "cells": {
             "fill": {
              "color": "#EBF0F8"
             },
             "line": {
              "color": "white"
             }
            },
            "header": {
             "fill": {
              "color": "#C8D4E3"
             },
             "line": {
              "color": "white"
             }
            },
            "type": "table"
           }
          ]
         },
         "layout": {
          "annotationdefaults": {
           "arrowcolor": "#2a3f5f",
           "arrowhead": 0,
           "arrowwidth": 1
          },
          "autotypenumbers": "strict",
          "coloraxis": {
           "colorbar": {
            "outlinewidth": 0,
            "ticks": ""
           }
          },
          "colorscale": {
           "diverging": [
            [
             0,
             "#8e0152"
            ],
            [
             0.1,
             "#c51b7d"
            ],
            [
             0.2,
             "#de77ae"
            ],
            [
             0.3,
             "#f1b6da"
            ],
            [
             0.4,
             "#fde0ef"
            ],
            [
             0.5,
             "#f7f7f7"
            ],
            [
             0.6,
             "#e6f5d0"
            ],
            [
             0.7,
             "#b8e186"
            ],
            [
             0.8,
             "#7fbc41"
            ],
            [
             0.9,
             "#4d9221"
            ],
            [
             1,
             "#276419"
            ]
           ],
           "sequential": [
            [
             0,
             "#0d0887"
            ],
            [
             0.1111111111111111,
             "#46039f"
            ],
            [
             0.2222222222222222,
             "#7201a8"
            ],
            [
             0.3333333333333333,
             "#9c179e"
            ],
            [
             0.4444444444444444,
             "#bd3786"
            ],
            [
             0.5555555555555556,
             "#d8576b"
            ],
            [
             0.6666666666666666,
             "#ed7953"
            ],
            [
             0.7777777777777778,
             "#fb9f3a"
            ],
            [
             0.8888888888888888,
             "#fdca26"
            ],
            [
             1,
             "#f0f921"
            ]
           ],
           "sequentialminus": [
            [
             0,
             "#0d0887"
            ],
            [
             0.1111111111111111,
             "#46039f"
            ],
            [
             0.2222222222222222,
             "#7201a8"
            ],
            [
             0.3333333333333333,
             "#9c179e"
            ],
            [
             0.4444444444444444,
             "#bd3786"
            ],
            [
             0.5555555555555556,
             "#d8576b"
            ],
            [
             0.6666666666666666,
             "#ed7953"
            ],
            [
             0.7777777777777778,
             "#fb9f3a"
            ],
            [
             0.8888888888888888,
             "#fdca26"
            ],
            [
             1,
             "#f0f921"
            ]
           ]
          },
          "colorway": [
           "#636efa",
           "#EF553B",
           "#00cc96",
           "#ab63fa",
           "#FFA15A",
           "#19d3f3",
           "#FF6692",
           "#B6E880",
           "#FF97FF",
           "#FECB52"
          ],
          "font": {
           "color": "#2a3f5f"
          },
          "geo": {
           "bgcolor": "white",
           "lakecolor": "white",
           "landcolor": "white",
           "showlakes": true,
           "showland": true,
           "subunitcolor": "#C8D4E3"
          },
          "hoverlabel": {
           "align": "left"
          },
          "hovermode": "closest",
          "mapbox": {
           "style": "light"
          },
          "paper_bgcolor": "white",
          "plot_bgcolor": "white",
          "polar": {
           "angularaxis": {
            "gridcolor": "#EBF0F8",
            "linecolor": "#EBF0F8",
            "ticks": ""
           },
           "bgcolor": "white",
           "radialaxis": {
            "gridcolor": "#EBF0F8",
            "linecolor": "#EBF0F8",
            "ticks": ""
           }
          },
          "scene": {
           "xaxis": {
            "backgroundcolor": "white",
            "gridcolor": "#DFE8F3",
            "gridwidth": 2,
            "linecolor": "#EBF0F8",
            "showbackground": true,
            "ticks": "",
            "zerolinecolor": "#EBF0F8"
           },
           "yaxis": {
            "backgroundcolor": "white",
            "gridcolor": "#DFE8F3",
            "gridwidth": 2,
            "linecolor": "#EBF0F8",
            "showbackground": true,
            "ticks": "",
            "zerolinecolor": "#EBF0F8"
           },
           "zaxis": {
            "backgroundcolor": "white",
            "gridcolor": "#DFE8F3",
            "gridwidth": 2,
            "linecolor": "#EBF0F8",
            "showbackground": true,
            "ticks": "",
            "zerolinecolor": "#EBF0F8"
           }
          },
          "shapedefaults": {
           "line": {
            "color": "#2a3f5f"
           }
          },
          "ternary": {
           "aaxis": {
            "gridcolor": "#DFE8F3",
            "linecolor": "#A2B1C6",
            "ticks": ""
           },
           "baxis": {
            "gridcolor": "#DFE8F3",
            "linecolor": "#A2B1C6",
            "ticks": ""
           },
           "bgcolor": "white",
           "caxis": {
            "gridcolor": "#DFE8F3",
            "linecolor": "#A2B1C6",
            "ticks": ""
           }
          },
          "title": {
           "x": 0.05
          },
          "xaxis": {
           "automargin": true,
           "gridcolor": "#EBF0F8",
           "linecolor": "#EBF0F8",
           "ticks": "",
           "title": {
            "standoff": 15
           },
           "zerolinecolor": "#EBF0F8",
           "zerolinewidth": 2
          },
          "yaxis": {
           "automargin": true,
           "gridcolor": "#EBF0F8",
           "linecolor": "#EBF0F8",
           "ticks": "",
           "title": {
            "standoff": 15
           },
           "zerolinecolor": "#EBF0F8",
           "zerolinewidth": 2
          }
         }
        },
        "title": {
         "text": "Интерактивный scatter: dbh vs wood, цвет - species, размер - branch"
        },
        "xaxis": {
         "anchor": "y",
         "domain": [
          0,
          1
         ],
         "title": {
          "text": "dbh"
         }
        },
        "yaxis": {
         "anchor": "x",
         "domain": [
          0,
          1
         ],
         "title": {
          "text": "wood"
         }
        }
       }
      },
      "image/png": "[encoded data removed]"
     },
     "metadata": {},
     "output_type": "display_data"
    },
    {
     "data": {
      "application/vnd.plotly.v1+json": {
       "config": {
        "plotlyServerURL": "https://plot.ly"
       },
       "data": [
        {
         "alignmentgroup": "True",
         "hovertemplate": "fac26=z<br>species=%{x}<br>wood=%{y}<extra></extra>",
         "legendgroup": "z",
         "marker": {
          "color": "#636efa",
          "pattern": {
           "shape": ""
          }
         },
         "name": "z",
         "offsetgroup": "z",
         "orientation": "v",
         "showlegend": true,
         "textposition": "auto",
         "type": "bar",
         "x": [
          "E. maculata",
          "E. maculata",
          "E. botryoides",
          "E. maculata",
          "E. botryoides",
          "E. botryoides",
          "E. botryoides",
          "Acacia mabellae",
          "E. maculata",
          "E. maculata",
          "E. botryoides",
          "E. botryoides",
          "E. maculata",
          "E. maculata",
          "E. maculata",
          "E. maculata",
          "E. maculata",
          "E. maculata",
          "E. maculata",
          "E. botryoides",
          "E. maculata",
          "E. maculata",
          "E. maculata",
          "E. maculata",
          "E. maculata",
          "E. maculata",
          "E. maculata",
          "E. maculata",
          "E. maculata",
          "E. maculata",
          "E. maculata",
          "E. maculata",
          "Acacia mabellae",
          "Acacia mabellae",
          "Acacia mabellae",
          "E. maculata",
          "Acacia mabellae",
          "E. maculata",
          "E. maculata",
          "E. maculata",
          "E. maculata",
          "Acacia mabellae",
          "Acacia mabellae",
          "Acacia mabellae",
          "Acacia mabellae",
          "Acacia mabellae",
          "Acacia mabellae",
          "Acacia mabellae",
          "Acacia mabellae",
          "Acacia mabellae",
          "Acacia mabellae",
          "Acacia mabellae",
          "E. botryoides",
          "C. fraseri",
          "C. fraseri",
          "C. fraseri",
          "C. fraseri",
          "C. fraseri",
          "C. fraseri",
          "C. fraseri",
          "C. fraseri",
          "B. myrtifolia",
          "B. myrtifolia",
          "B. myrtifolia",
          "B. myrtifolia",
          "B. myrtifolia",
          "B. myrtifolia",
          "B. myrtifolia",
          "B. myrtifolia",
          "B. myrtifolia",
          "B. myrtifolia",
          "B. myrtifolia",
          "Other",
          "Other",
          "Other"
         ],
         "xaxis": "x",
         "y": {
          "bdata": "AAAAAACYtUAAAAAAAEBkQAAAAAAAc7tAAAAAAAD4kEAAAAAAAM6nQAAAAAAAQGRAAAAAAABAZEAAAAAAAEBkQAAAAAAAQGRAAAAAAADkr0AAAAAAAKyVQAAAAAAAXqNAAAAAAACH2EAAAAAAAIBYQAAAAAAAwGdAAAAAAACAW0AAAAAAAOBiQAAAAAAAfLBAAAAAAACiz0AAAAAAABqnQAAAAAAAx9VAAAAAAAAAKkAAAAAAAAAxQAAAAAAAACZAAAAAAAAAMEAAAAAAAAA0QAAAAAAAAD9AAAAAAAAAGEAAAAAAAAAYQAAAAAAAADVAAAAAAAAAEEAAAAAAAAAIQAAAAAAAEHZAAAAAAAAAakAAAAAAANB7QAAAAAAAyKlAAAAAAABwgkAAAAAAADChQAAAAAAAnJhAAAAAAAD+sEAAAAAAAHCnQAAAAAAAACxAAAAAAAAAJEAAAAAAAAA/QAAAAAAAgE1AAAAAAAAAPkAAAAAAAAB0QAAAAAAAADRAAAAAAAAAPUAAAAAAAIBBQAAAAAAAYGlAAAAAAAAIkUAAAAAAAEBkQAAAAAAAACRAAAAAAAAAHEAAAAAAAAAqQAAAAAAAACJAAAAAAAAAHEAAAAAAAAA9QAAAAAAAADlAAAAAAAAAJEAAAAAAADCBQAAAAAAA4HlAAAAAAAAARUAAAAAAAEBVQAAAAAAAgEFAAAAAAAAATkAAAAAAAABOQAAAAAAAiJNAAAAAAADwjkAAAAAAACByQAAAAAAAcJdAAAAAAAAQmEAAAAAAAICGQAAAAAAAgIFA",
          "dtype": "f8"
         },
         "yaxis": "y"
        },
        {
         "alignmentgroup": "True",
         "hovertemplate": "fac26=2<br>species=%{x}<br>wood=%{y}<extra></extra>",
         "legendgroup": "2",
         "marker": {
          "color": "#EF553B",
          "pattern": {
           "shape": ""
          }
         },
         "name": "2",
         "offsetgroup": "2",
         "orientation": "v",
         "showlegend": true,
         "textposition": "auto",
         "type": "bar",
         "x": [
          "E. pilularis",
          "E. pilularis",
          "E. pilularis",
          "E. pilularis",
          "E. pilularis",
          "E. pilularis",
          "E. pilularis",
          "E. pilularis",
          "E. pilularis",
          "E. pilularis",
          "E. pilularis",
          "E. pilularis",
          "E. pilularis",
          "E. pilularis",
          "E. pilularis",
          "E. pilularis",
          "E. pilularis",
          "E. pilularis",
          "E. pilularis",
          "E. pilularis",
          "E. pilularis",
          "E. pilularis",
          "E. pilularis",
          "E. pilularis",
          "E. pilularis",
          "E. pilularis",
          "E. pilularis",
          "E. pilularis",
          "E. pilularis",
          "E. pilularis",
          "E. pilularis",
          "E. pilularis",
          "E. pilularis",
          "E. pilularis",
          "E. pilularis",
          "E. pilularis",
          "E. pilularis",
          "E. pilularis",
          "E. pilularis",
          "E. pilularis",
          "E. pilularis",
          "E. pilularis",
          "E. pilularis",
          "E. pilularis",
          "E. pilularis",
          "E. pilularis",
          "E. pilularis"
         ],
         "xaxis": "x",
         "y": {
          "bdata": "AAAAAACpykAAAAAAAODFQAAAAAAAQI9AAAAAAABAZEAAAAAAAEBkQAAAAAAAQGRAAAAAAAASzkAAAAAAQGzRQAAAAAAAQGRAAAAAAABAZEAAAAAAAEBkQAAAAAAAQGRAAAAAAABAZEAAAAAAAEBkQAAAAAAAQGRAAAAAAABAZEAAAAAAAEBkQAAAAAAAQGRAAAAAAABAZEAAAAAAAKiRQAAAAAAAgHtAAAAAAAAAaEAAAAAAAIBfQAAAAAAAAGVAAAAAAABAZUAAAAAAAEBlQAAAAAAAQFRAAAAAAACAUkAAAAAAAAAIQAAAAAAAAExAAAAAAAAAFEAAAAAAAAAuQAAAAAAAADtAAAAAAAAAKEAAAAAAAAA5QAAAAAAAACBAAAAAAAAAPUAAAAAAAOazQAAAAAAAxqBAAAAAAAAAm0AAAAAAAOyeQAAAAAAAJKVAAAAAAACcpEAAAAAAAIBBQAAAAAAAAEVAAAAAAAAARUAAAAAAAABFQA==",
          "dtype": "f8"
         },
         "yaxis": "y"
        },
        {
         "alignmentgroup": "True",
         "hovertemplate": "fac26=Unknown<br>species=%{x}<br>wood=%{y}<extra></extra>",
         "legendgroup": "Unknown",
         "marker": {
          "color": "#00cc96",
          "pattern": {
           "shape": ""
          }
         },
         "name": "Unknown",
         "offsetgroup": "Unknown",
         "orientation": "v",
         "showlegend": true,
         "textposition": "auto",
         "type": "bar",
         "x": [
          "E. maculata",
          "C. fraseri",
          "C. fraseri",
          "C. fraseri",
          "C. fraseri"
         ],
         "xaxis": "x",
         "y": {
          "bdata": "AAAAAAAATkAAAAAAAAAIQAAAAAAAADRAAAAAAAAAMEAAAAAAAAAoQA==",
          "dtype": "f8"
         },
         "yaxis": "y"
        },
        {
         "alignmentgroup": "True",
         "hovertemplate": "fac26=6<br>species=%{x}<br>wood=%{y}<extra></extra>",
         "legendgroup": "6",
         "marker": {
          "color": "#ab63fa",
          "pattern": {
           "shape": ""
          }
         },
         "name": "6",
         "offsetgroup": "6",
         "orientation": "v",
         "showlegend": true,
         "textposition": "auto",
         "type": "bar",
         "x": [
          "Acmena smithii",
          "Acmena smithii",
          "Acmena smithii",
          "Acmena smithii",
          "Acmena smithii",
          "Acmena smithii",
          "Acmena smithii",
          "Acmena smithii",
          "Acmena smithii",
          "Acmena smithii",
          "Acmena smithii",
          "Acmena smithii",
          "Acmena smithii",
          "Acmena smithii",
          "Acmena smithii",
          "Acmena smithii",
          "Acmena smithii",
          "Acmena smithii",
          "Acmena smithii",
          "Acmena smithii",
          "Acmena smithii",
          "Acmena smithii",
          "Acmena smithii",
          "Acmena smithii",
          "Acmena smithii",
          "Acmena smithii"
         ],
         "xaxis": "x",
         "y": {
          "bdata": "AAAAAACgf0AAAAAAAMB/QAAAAAAAiIlAAAAAAAAgcUAAAAAAAEBkQAAAAAAA4IBAAAAAAAAAcUAAAAAAAFByQAAAAAAAQFNAAAAAAACAeUAAAAAAAABEQAAAAAAAAGtAAAAAAAAAakAAAAAAAABJQAAAAAAAADJAAAAAAADgd0AAAAAAACBkQAAAAAAAgGFAAAAAAACAcUAAAAAAAABVQAAAAAAAAElAAAAAAADgf0AAAAAAAAB5QAAAAAAAgFFAAAAAAADAXEAAAAAAAOiXQA==",
          "dtype": "f8"
         },
         "yaxis": "y"
        }
       ],
       "layout": {
        "barmode": "group",
        "legend": {
         "title": {
          "text": "fac26"
         },
         "tracegroupgap": 0
        },
        "template": {
         "data": {
          "bar": [
           {
            "error_x": {
             "color": "#2a3f5f"
            },
            "error_y": {
             "color": "#2a3f5f"
            },
            "marker": {
             "line": {
              "color": "white",
              "width": 0.5
             },
             "pattern": {
              "fillmode": "overlay",
              "size": 10,
              "solidity": 0.2
             }
            },
            "type": "bar"
           }
          ],
          "barpolar": [
           {
            "marker": {
             "line": {
              "color": "white",
              "width": 0.5
             },
             "pattern": {
              "fillmode": "overlay",
              "size": 10,
              "solidity": 0.2
             }
            },
            "type": "barpolar"
           }
          ],
          "carpet": [
           {
            "aaxis": {
             "endlinecolor": "#2a3f5f",
             "gridcolor": "#C8D4E3",
             "linecolor": "#C8D4E3",
             "minorgridcolor": "#C8D4E3",
             "startlinecolor": "#2a3f5f"
            },
            "baxis": {
             "endlinecolor": "#2a3f5f",
             "gridcolor": "#C8D4E3",
             "linecolor": "#C8D4E3",
             "minorgridcolor": "#C8D4E3",
             "startlinecolor": "#2a3f5f"
            },
            "type": "carpet"
           }
          ],
          "choropleth": [
           {
            "colorbar": {
             "outlinewidth": 0,
             "ticks": ""
            },
            "type": "choropleth"
           }
          ],
          "contour": [
           {
            "colorbar": {
             "outlinewidth": 0,
             "ticks": ""
            },
            "colorscale": [
             [
              0,
              "#0d0887"
             ],
             [
              0.1111111111111111,
              "#46039f"
             ],
             [
              0.2222222222222222,
              "#7201a8"
             ],
             [
              0.3333333333333333,
              "#9c179e"
             ],
             [
              0.4444444444444444,
              "#bd3786"
             ],
             [
              0.5555555555555556,
              "#d8576b"
             ],
             [
              0.6666666666666666,
              "#ed7953"
             ],
             [
              0.7777777777777778,
              "#fb9f3a"
             ],
             [
              0.8888888888888888,
              "#fdca26"
             ],
             [
              1,
              "#f0f921"
             ]
            ],
            "type": "contour"
           }
          ],
          "contourcarpet": [
           {
            "colorbar": {
             "outlinewidth": 0,
             "ticks": ""
            },
            "type": "contourcarpet"
           }
          ],
          "heatmap": [
           {
            "colorbar": {
             "outlinewidth": 0,
             "ticks": ""
            },
            "colorscale": [
             [
              0,
              "#0d0887"
             ],
             [
              0.1111111111111111,
              "#46039f"
             ],
             [
              0.2222222222222222,
              "#7201a8"
             ],
             [
              0.3333333333333333,
              "#9c179e"
             ],
             [
              0.4444444444444444,
              "#bd3786"
             ],
             [
              0.5555555555555556,
              "#d8576b"
             ],
             [
              0.6666666666666666,
              "#ed7953"
             ],
             [
              0.7777777777777778,
              "#fb9f3a"
             ],
             [
              0.8888888888888888,
              "#fdca26"
             ],
             [
              1,
              "#f0f921"
             ]
            ],
            "type": "heatmap"
           }
          ],
          "histogram": [
           {
            "marker": {
             "pattern": {
              "fillmode": "overlay",
              "size": 10,
              "solidity": 0.2
             }
            },
            "type": "histogram"
           }
          ],
          "histogram2d": [
           {
            "colorbar": {
             "outlinewidth": 0,
             "ticks": ""
            },
            "colorscale": [
             [
              0,
              "#0d0887"
             ],
             [
              0.1111111111111111,
              "#46039f"
             ],
             [
              0.2222222222222222,
              "#7201a8"
             ],
             [
              0.3333333333333333,
              "#9c179e"
             ],
             [
              0.4444444444444444,
              "#bd3786"
             ],
             [
              0.5555555555555556,
              "#d8576b"
             ],
             [
              0.6666666666666666,
              "#ed7953"
             ],
             [
              0.7777777777777778,
              "#fb9f3a"
             ],
             [
              0.8888888888888888,
              "#fdca26"
             ],
             [
              1,
              "#f0f921"
             ]
            ],
            "type": "histogram2d"
           }
          ],
          "histogram2dcontour": [
           {
            "colorbar": {
             "outlinewidth": 0,
             "ticks": ""
            },
            "colorscale": [
             [
              0,
              "#0d0887"
             ],
             [
              0.1111111111111111,
              "#46039f"
             ],
             [
              0.2222222222222222,
              "#7201a8"
             ],
             [
              0.3333333333333333,
              "#9c179e"
             ],
             [
              0.4444444444444444,
              "#bd3786"
             ],
             [
              0.5555555555555556,
              "#d8576b"
             ],
             [
              0.6666666666666666,
              "#ed7953"
             ],
             [
              0.7777777777777778,
              "#fb9f3a"
             ],
             [
              0.8888888888888888,
              "#fdca26"
             ],
             [
              1,
              "#f0f921"
             ]
            ],
            "type": "histogram2dcontour"
           }
          ],
          "mesh3d": [
           {
            "colorbar": {
             "outlinewidth": 0,
             "ticks": ""
            },
            "type": "mesh3d"
           }
          ],
          "parcoords": [
           {
            "line": {
             "colorbar": {
              "outlinewidth": 0,
              "ticks": ""
             }
            },
            "type": "parcoords"
           }
          ],
          "pie": [
           {
            "automargin": true,
            "type": "pie"
           }
          ],
          "scatter": [
           {
            "fillpattern": {
             "fillmode": "overlay",
             "size": 10,
             "solidity": 0.2
            },
            "type": "scatter"
           }
          ],
          "scatter3d": [
           {
            "line": {
             "colorbar": {
              "outlinewidth": 0,
              "ticks": ""
             }
            },
            "marker": {
             "colorbar": {
              "outlinewidth": 0,
              "ticks": ""
             }
            },
            "type": "scatter3d"
           }
          ],
          "scattercarpet": [
           {
            "marker": {
             "colorbar": {
              "outlinewidth": 0,
              "ticks": ""
             }
            },
            "type": "scattercarpet"
           }
          ],
          "scattergeo": [
           {
            "marker": {
             "colorbar": {
              "outlinewidth": 0,
              "ticks": ""
             }
            },
            "type": "scattergeo"
           }
          ],
          "scattergl": [
           {
            "marker": {
             "colorbar": {
              "outlinewidth": 0,
              "ticks": ""
             }
            },
            "type": "scattergl"
           }
          ],
          "scattermap": [
           {
            "marker": {
             "colorbar": {
              "outlinewidth": 0,
              "ticks": ""
             }
            },
            "type": "scattermap"
           }
          ],
          "scattermapbox": [
           {
            "marker": {
             "colorbar": {
              "outlinewidth": 0,
              "ticks": ""
             }
            },
            "type": "scattermapbox"
           }
          ],
          "scatterpolar": [
           {
            "marker": {
             "colorbar": {
              "outlinewidth": 0,
              "ticks": ""
             }
            },
            "type": "scatterpolar"
           }
          ],
          "scatterpolargl": [
           {
            "marker": {
             "colorbar": {
              "outlinewidth": 0,
              "ticks": ""
             }
            },
            "type": "scatterpolargl"
           }
          ],
          "scatterternary": [
           {
            "marker": {
             "colorbar": {
              "outlinewidth": 0,
              "ticks": ""
             }
            },
            "type": "scatterternary"
           }
          ],
          "surface": [
           {
            "colorbar": {
             "outlinewidth": 0,
             "ticks": ""
            },
            "colorscale": [
             [
              0,
              "#0d0887"
             ],
             [
              0.1111111111111111,
              "#46039f"
             ],
             [
              0.2222222222222222,
              "#7201a8"
             ],
             [
              0.3333333333333333,
              "#9c179e"
             ],
             [
              0.4444444444444444,
              "#bd3786"
             ],
             [
              0.5555555555555556,
              "#d8576b"
             ],
             [
              0.6666666666666666,
              "#ed7953"
             ],
             [
              0.7777777777777778,
              "#fb9f3a"
             ],
             [
              0.8888888888888888,
              "#fdca26"
             ],
             [
              1,
              "#f0f921"
             ]
            ],
            "type": "surface"
           }
          ],
          "table": [
           {
            "cells": {
             "fill": {
              "color": "#EBF0F8"
             },
             "line": {
              "color": "white"
             }
            },
            "header": {
             "fill": {
              "color": "#C8D4E3"
             },
             "line": {
              "color": "white"
             }
            },
            "type": "table"
           }
          ]
         },
         "layout": {
          "annotationdefaults": {
           "arrowcolor": "#2a3f5f",
           "arrowhead": 0,
           "arrowwidth": 1
          },
          "autotypenumbers": "strict",
          "coloraxis": {
           "colorbar": {
            "outlinewidth": 0,
            "ticks": ""
           }
          },
          "colorscale": {
           "diverging": [
            [
             0,
             "#8e0152"
            ],
            [
             0.1,
             "#c51b7d"
            ],
            [
             0.2,
             "#de77ae"
            ],
            [
             0.3,
             "#f1b6da"
            ],
            [
             0.4,
             "#fde0ef"
            ],
            [
             0.5,
             "#f7f7f7"
            ],
            [
             0.6,
             "#e6f5d0"
            ],
            [
             0.7,
             "#b8e186"
            ],
            [
             0.8,
             "#7fbc41"
            ],
            [
             0.9,
             "#4d9221"
            ],
            [
             1,
             "#276419"
            ]
           ],
           "sequential": [
            [
             0,
             "#0d0887"
            ],
            [
             0.1111111111111111,
             "#46039f"
            ],
            [
             0.2222222222222222,
             "#7201a8"
            ],
            [
             0.3333333333333333,
             "#9c179e"
            ],
            [
             0.4444444444444444,
             "#bd3786"
            ],
            [
             0.5555555555555556,
             "#d8576b"
            ],
            [
             0.6666666666666666,
             "#ed7953"
            ],
            [
             0.7777777777777778,
             "#fb9f3a"
            ],
            [
             0.8888888888888888,
             "#fdca26"
            ],
            [
             1,
             "#f0f921"
            ]
           ],
           "sequentialminus": [
            [
             0,
             "#0d0887"
            ],
            [
             0.1111111111111111,
             "#46039f"
            ],
            [
             0.2222222222222222,
             "#7201a8"
            ],
            [
             0.3333333333333333,
             "#9c179e"
            ],
            [
             0.4444444444444444,
             "#bd3786"
            ],
            [
             0.5555555555555556,
             "#d8576b"
            ],
            [
             0.6666666666666666,
             "#ed7953"
            ],
            [
             0.7777777777777778,
             "#fb9f3a"
            ],
            [
             0.8888888888888888,
             "#fdca26"
            ],
            [
             1,
             "#f0f921"
            ]
           ]
          },
          "colorway": [
           "#636efa",
           "#EF553B",
           "#00cc96",
           "#ab63fa",
           "#FFA15A",
           "#19d3f3",
           "#FF6692",
           "#B6E880",
           "#FF97FF",
           "#FECB52"
          ],
          "font": {
           "color": "#2a3f5f"
          },
          "geo": {
           "bgcolor": "white",
           "lakecolor": "white",
           "landcolor": "white",
           "showlakes": true,
           "showland": true,
           "subunitcolor": "#C8D4E3"
          },
          "hoverlabel": {
           "align": "left"
          },
          "hovermode": "closest",
          "mapbox": {
           "style": "light"
          },
          "paper_bgcolor": "white",
          "plot_bgcolor": "white",
          "polar": {
           "angularaxis": {
            "gridcolor": "#EBF0F8",
            "linecolor": "#EBF0F8",
            "ticks": ""
           },
           "bgcolor": "white",
           "radialaxis": {
            "gridcolor": "#EBF0F8",
            "linecolor": "#EBF0F8",
            "ticks": ""
           }
          },
          "scene": {
           "xaxis": {
            "backgroundcolor": "white",
            "gridcolor": "#DFE8F3",
            "gridwidth": 2,
            "linecolor": "#EBF0F8",
            "showbackground": true,
            "ticks": "",
            "zerolinecolor": "#EBF0F8"
           },
           "yaxis": {
            "backgroundcolor": "white",
            "gridcolor": "#DFE8F3",
            "gridwidth": 2,
            "linecolor": "#EBF0F8",
            "showbackground": true,
            "ticks": "",
            "zerolinecolor": "#EBF0F8"
           },
           "zaxis": {
            "backgroundcolor": "white",
            "gridcolor": "#DFE8F3",
            "gridwidth": 2,
            "linecolor": "#EBF0F8",
            "showbackground": true,
            "ticks": "",
            "zerolinecolor": "#EBF0F8"
           }
          },
          "shapedefaults": {
           "line": {
            "color": "#2a3f5f"
           }
          },
          "ternary": {
           "aaxis": {
            "gridcolor": "#DFE8F3",
            "linecolor": "#A2B1C6",
            "ticks": ""
           },
           "baxis": {
            "gridcolor": "#DFE8F3",
            "linecolor": "#A2B1C6",
            "ticks": ""
           },
           "bgcolor": "white",
           "caxis": {
            "gridcolor": "#DFE8F3",
            "linecolor": "#A2B1C6",
            "ticks": ""
           }
          },
          "title": {
           "x": 0.05
          },
          "xaxis": {
           "automargin": true,
           "gridcolor": "#EBF0F8",
           "linecolor": "#EBF0F8",
           "ticks": "",
           "title": {
            "standoff": 15
           },
           "zerolinecolor": "#EBF0F8",
           "zerolinewidth": 2
          },
          "yaxis": {
           "automargin": true,
           "gridcolor": "#EBF0F8",
           "linecolor": "#EBF0F8",
           "ticks": "",
           "title": {
            "standoff": 15
           },
           "zerolinecolor": "#EBF0F8",
           "zerolinewidth": 2
          }
         }
        },
        "title": {
         "text": "Barplot: wood по видам и fac26"
        },
        "xaxis": {
         "anchor": "y",
         "domain": [
          0,
          1
         ],
         "title": {
          "text": "species"
         }
        },
        "yaxis": {
         "anchor": "x",
         "domain": [
          0,
          1
         ],
         "title": {
          "text": "wood"
         }
        }
       }
      },
      "image/png": "[encoded data removed]"
     },
     "metadata": {},
     "output_type": "display_data"
    },
    {
     "data": {
      "application/vnd.plotly.v1+json": {
       "config": {
        "plotlyServerURL": "https://plot.ly"
       },
       "data": [
        {
         "alignmentgroup": "True",
         "hovertemplate": "species=E. maculata<br>fac26=%{x}<br>dbh=%{y}<extra></extra>",
         "legendgroup": "E. maculata",
         "marker": {
          "color": "#636efa"
         },
         "name": "E. maculata",
         "notched": false,
         "offsetgroup": "E. maculata",
         "orientation": "v",
         "showlegend": true,
         "type": "box",
         "x": [
          "z",
          "z",
          "z",
          "z",
          "z",
          "z",
          "z",
          "z",
          "z",
          "z",
          "z",
          "z",
          "z",
          "z",
          "z",
          "z",
          "z",
          "z",
          "z",
          "Unknown",
          "z",
          "z",
          "z",
          "z",
          "z",
          "z",
          "z",
          "z",
          "z",
          "z"
         ],
         "x0": " ",
         "xaxis": "x",
         "y": {
          "bdata": "WgCCACcABAA2AIIACwAPAAwADgA8AGQAkQAHAAcABgAHAAgACQAMAAQABQAHAAQABAA2ACsAKQA3ADcA",
          "dtype": "i2"
         },
         "y0": " ",
         "yaxis": "y"
        },
        {
         "alignmentgroup": "True",
         "hovertemplate": "species=E. pilularis<br>fac26=%{x}<br>dbh=%{y}<extra></extra>",
         "legendgroup": "E. pilularis",
         "marker": {
          "color": "#EF553B"
         },
         "name": "E. pilularis",
         "notched": false,
         "offsetgroup": "E. pilularis",
         "orientation": "v",
         "showlegend": true,
         "type": "box",
         "x": [
          "2",
          "2",
          "2",
          "2",
          "2",
          "2",
          "2",
          "2",
          "2",
          "2",
          "2",
          "2",
          "2",
          "2",
          "2",
          "2",
          "2",
          "2",
          "2",
          "2",
          "2",
          "2",
          "2",
          "2",
          "2",
          "2",
          "2",
          "2",
          "2",
          "2",
          "2",
          "2",
          "2",
          "2",
          "2",
          "2",
          "2",
          "2",
          "2",
          "2",
          "2",
          "2",
          "2",
          "2",
          "2",
          "2",
          "2"
         ],
         "x0": " ",
         "xaxis": "x",
         "y": {
          "bdata": "anAiMh4nZ25NBQcaCAgJDlUGLiQWEQ0PDRALCwMKBAUHBggFCD8vJS0yMggJCQk=",
          "dtype": "i1"
         },
         "y0": " ",
         "yaxis": "y"
        },
        {
         "alignmentgroup": "True",
         "hovertemplate": "species=E. botryoides<br>fac26=%{x}<br>dbh=%{y}<extra></extra>",
         "legendgroup": "E. botryoides",
         "marker": {
          "color": "#00cc96"
         },
         "name": "E. botryoides",
         "notched": false,
         "offsetgroup": "E. botryoides",
         "orientation": "v",
         "showlegend": true,
         "type": "box",
         "x": [
          "z",
          "z",
          "z",
          "z",
          "z",
          "z",
          "z",
          "z"
         ],
         "x0": " ",
         "xaxis": "x",
         "y": {
          "bdata": "VjIYHCUsMhI=",
          "dtype": "i1"
         },
         "y0": " ",
         "yaxis": "y"
        },
        {
         "alignmentgroup": "True",
         "hovertemplate": "species=Acacia mabellae<br>fac26=%{x}<br>dbh=%{y}<extra></extra>",
         "legendgroup": "Acacia mabellae",
         "marker": {
          "color": "#ab63fa"
         },
         "name": "Acacia mabellae",
         "notched": false,
         "offsetgroup": "Acacia mabellae",
         "orientation": "v",
         "showlegend": true,
         "type": "box",
         "x": [
          "z",
          "z",
          "z",
          "z",
          "z",
          "z",
          "z",
          "z",
          "z",
          "z",
          "z",
          "z",
          "z",
          "z",
          "z",
          "z"
         ],
         "x0": " ",
         "xaxis": "x",
         "y": {
          "bdata": "BhcUFxgFBQgKCBYJCgoTIw==",
          "dtype": "i1"
         },
         "y0": " ",
         "yaxis": "y"
        },
        {
         "alignmentgroup": "True",
         "hovertemplate": "species=C. fraseri<br>fac26=%{x}<br>dbh=%{y}<extra></extra>",
         "legendgroup": "C. fraseri",
         "marker": {
          "color": "#FFA15A"
         },
         "name": "C. fraseri",
         "notched": false,
         "offsetgroup": "C. fraseri",
         "orientation": "v",
         "showlegend": true,
         "type": "box",
         "x": [
          "z",
          "z",
          "Unknown",
          "z",
          "z",
          "Unknown",
          "Unknown",
          "z",
          "z",
          "Unknown",
          "z",
          "z"
         ],
         "x0": " ",
         "xaxis": "x",
         "y": {
          "bdata": "BgQEBgUIBgUHBQcG",
          "dtype": "i1"
         },
         "y0": " ",
         "yaxis": "y"
        },
        {
         "alignmentgroup": "True",
         "hovertemplate": "species=Acmena smithii<br>fac26=%{x}<br>dbh=%{y}<extra></extra>",
         "legendgroup": "Acmena smithii",
         "marker": {
          "color": "#19d3f3"
         },
         "name": "Acmena smithii",
         "notched": false,
         "offsetgroup": "Acmena smithii",
         "orientation": "v",
         "showlegend": true,
         "type": "box",
         "x": [
          "6",
          "6",
          "6",
          "6",
          "6",
          "6",
          "6",
          "6",
          "6",
          "6",
          "6",
          "6",
          "6",
          "6",
          "6",
          "6",
          "6",
          "6",
          "6",
          "6",
          "6",
          "6",
          "6",
          "6",
          "6",
          "6"
         ],
         "x0": " ",
         "xaxis": "x",
         "y": {
          "bdata": "GRgfFRAbExUKFwkREQoGFg8PEwsJGRYKDDA=",
          "dtype": "i1"
         },
         "y0": " ",
         "yaxis": "y"
        },
        {
         "alignmentgroup": "True",
         "hovertemplate": "species=B. myrtifolia<br>fac26=%{x}<br>dbh=%{y}<extra></extra>",
         "legendgroup": "B. myrtifolia",
         "marker": {
          "color": "#FF6692"
         },
         "name": "B. myrtifolia",
         "notched": false,
         "offsetgroup": "B. myrtifolia",
         "orientation": "v",
         "showlegend": true,
         "type": "box",
         "x": [
          "z",
          "z",
          "z",
          "z",
          "z",
          "z",
          "z",
          "z",
          "z",
          "z",
          "z"
         ],
         "x0": " ",
         "xaxis": "x",
         "y": {
          "bdata": "GxoJDAkLCiUlFDg=",
          "dtype": "i1"
         },
         "y0": " ",
         "yaxis": "y"
        },
        {
         "alignmentgroup": "True",
         "hovertemplate": "species=Other<br>fac26=%{x}<br>dbh=%{y}<extra></extra>",
         "legendgroup": "Other",
         "marker": {
          "color": "#B6E880"
         },
         "name": "Other",
         "notched": false,
         "offsetgroup": "Other",
         "orientation": "v",
         "showlegend": true,
         "type": "box",
         "x": [
          "z",
          "z",
          "z"
         ],
         "x0": " ",
         "xaxis": "x",
         "y": {
          "bdata": "KyMd",
          "dtype": "i1"
         },
         "y0": " ",
         "yaxis": "y"
        }
       ],
       "layout": {
        "boxmode": "group",
        "legend": {
         "title": {
          "text": "species"
         },
         "tracegroupgap": 0
        },
        "template": {
         "data": {
          "bar": [
           {
            "error_x": {
             "color": "#2a3f5f"
            },
            "error_y": {
             "color": "#2a3f5f"
            },
            "marker": {
             "line": {
              "color": "white",
              "width": 0.5
             },
             "pattern": {
              "fillmode": "overlay",
              "size": 10,
              "solidity": 0.2
             }
            },
            "type": "bar"
           }
          ],
          "barpolar": [
           {
            "marker": {
             "line": {
              "color": "white",
              "width": 0.5
             },
             "pattern": {
              "fillmode": "overlay",
              "size": 10,
              "solidity": 0.2
             }
            },
            "type": "barpolar"
           }
          ],
          "carpet": [
           {
            "aaxis": {
             "endlinecolor": "#2a3f5f",
             "gridcolor": "#C8D4E3",
             "linecolor": "#C8D4E3",
             "minorgridcolor": "#C8D4E3",
             "startlinecolor": "#2a3f5f"
            },
            "baxis": {
             "endlinecolor": "#2a3f5f",
             "gridcolor": "#C8D4E3",
             "linecolor": "#C8D4E3",
             "minorgridcolor": "#C8D4E3",
             "startlinecolor": "#2a3f5f"
            },
            "type": "carpet"
           }
          ],
          "choropleth": [
           {
            "colorbar": {
             "outlinewidth": 0,
             "ticks": ""
            },
            "type": "choropleth"
           }
          ],
          "contour": [
           {
            "colorbar": {
             "outlinewidth": 0,
             "ticks": ""
            },
            "colorscale": [
             [
              0,
              "#0d0887"
             ],
             [
              0.1111111111111111,
              "#46039f"
             ],
             [
              0.2222222222222222,
              "#7201a8"
             ],
             [
              0.3333333333333333,
              "#9c179e"
             ],
             [
              0.4444444444444444,
              "#bd3786"
             ],
             [
              0.5555555555555556,
              "#d8576b"
             ],
             [
              0.6666666666666666,
              "#ed7953"
             ],
             [
              0.7777777777777778,
              "#fb9f3a"
             ],
             [
              0.8888888888888888,
              "#fdca26"
             ],
             [
              1,
              "#f0f921"
             ]
            ],
            "type": "contour"
           }
          ],
          "contourcarpet": [
           {
            "colorbar": {
             "outlinewidth": 0,
             "ticks": ""
            },
            "type": "contourcarpet"
           }
          ],
          "heatmap": [
           {
            "colorbar": {
             "outlinewidth": 0,
             "ticks": ""
            },
            "colorscale": [
             [
              0,
              "#0d0887"
             ],
             [
              0.1111111111111111,
              "#46039f"
             ],
             [
              0.2222222222222222,
              "#7201a8"
             ],
             [
              0.3333333333333333,
              "#9c179e"
             ],
             [
              0.4444444444444444,
              "#bd3786"
             ],
             [
              0.5555555555555556,
              "#d8576b"
             ],
             [
              0.6666666666666666,
              "#ed7953"
             ],
             [
              0.7777777777777778,
              "#fb9f3a"
             ],
             [
              0.8888888888888888,
              "#fdca26"
             ],
             [
              1,
              "#f0f921"
             ]
            ],
            "type": "heatmap"
           }
          ],
          "histogram": [
           {
            "marker": {
             "pattern": {
              "fillmode": "overlay",
              "size": 10,
              "solidity": 0.2
             }
            },
            "type": "histogram"
           }
          ],
          "histogram2d": [
           {
            "colorbar": {
             "outlinewidth": 0,
             "ticks": ""
            },
            "colorscale": [
             [
              0,
              "#0d0887"
             ],
             [
              0.1111111111111111,
              "#46039f"
             ],
             [
              0.2222222222222222,
              "#7201a8"
             ],
             [
              0.3333333333333333,
              "#9c179e"
             ],
             [
              0.4444444444444444,
              "#bd3786"
             ],
             [
              0.5555555555555556,
              "#d8576b"
             ],
             [
              0.6666666666666666,
              "#ed7953"
             ],
             [
              0.7777777777777778,
              "#fb9f3a"
             ],
             [
              0.8888888888888888,
              "#fdca26"
             ],
             [
              1,
              "#f0f921"
             ]
            ],
            "type": "histogram2d"
           }
          ],
          "histogram2dcontour": [
           {
            "colorbar": {
             "outlinewidth": 0,
             "ticks": ""
            },
            "colorscale": [
             [
              0,
              "#0d0887"
             ],
             [
              0.1111111111111111,
              "#46039f"
             ],
             [
              0.2222222222222222,
              "#7201a8"
             ],
             [
              0.3333333333333333,
              "#9c179e"
             ],
             [
              0.4444444444444444,
              "#bd3786"
             ],
             [
              0.5555555555555556,
              "#d8576b"
             ],
             [
              0.6666666666666666,
              "#ed7953"
             ],
             [
              0.7777777777777778,
              "#fb9f3a"
             ],
             [
              0.8888888888888888,
              "#fdca26"
             ],
             [
              1,
              "#f0f921"
             ]
            ],
            "type": "histogram2dcontour"
           }
          ],
          "mesh3d": [
           {
            "colorbar": {
             "outlinewidth": 0,
             "ticks": ""
            },
            "type": "mesh3d"
           }
          ],
          "parcoords": [
           {
            "line": {
             "colorbar": {
              "outlinewidth": 0,
              "ticks": ""
             }
            },
            "type": "parcoords"
           }
          ],
          "pie": [
           {
            "automargin": true,
            "type": "pie"
           }
          ],
          "scatter": [
           {
            "fillpattern": {
             "fillmode": "overlay",
             "size": 10,
             "solidity": 0.2
            },
            "type": "scatter"
           }
          ],
          "scatter3d": [
           {
            "line": {
             "colorbar": {
              "outlinewidth": 0,
              "ticks": ""
             }
            },
            "marker": {
             "colorbar": {
              "outlinewidth": 0,
              "ticks": ""
             }
            },
            "type": "scatter3d"
           }
          ],
          "scattercarpet": [
           {
            "marker": {
             "colorbar": {
              "outlinewidth": 0,
              "ticks": ""
             }
            },
            "type": "scattercarpet"
           }
          ],
          "scattergeo": [
           {
            "marker": {
             "colorbar": {
              "outlinewidth": 0,
              "ticks": ""
             }
            },
            "type": "scattergeo"
           }
          ],
          "scattergl": [
           {
            "marker": {
             "colorbar": {
              "outlinewidth": 0,
              "ticks": ""
             }
            },
            "type": "scattergl"
           }
          ],
          "scattermap": [
           {
            "marker": {
             "colorbar": {
              "outlinewidth": 0,
              "ticks": ""
             }
            },
            "type": "scattermap"
           }
          ],
          "scattermapbox": [
           {
            "marker": {
             "colorbar": {
              "outlinewidth": 0,
              "ticks": ""
             }
            },
            "type": "scattermapbox"
           }
          ],
          "scatterpolar": [
           {
            "marker": {
             "colorbar": {
              "outlinewidth": 0,
              "ticks": ""
             }
            },
            "type": "scatterpolar"
           }
          ],
          "scatterpolargl": [
           {
            "marker": {
             "colorbar": {
              "outlinewidth": 0,
              "ticks": ""
             }
            },
            "type": "scatterpolargl"
           }
          ],
          "scatterternary": [
           {
            "marker": {
             "colorbar": {
              "outlinewidth": 0,
              "ticks": ""
             }
            },
            "type": "scatterternary"
           }
          ],
          "surface": [
           {
            "colorbar": {
             "outlinewidth": 0,
             "ticks": ""
            },
            "colorscale": [
             [
              0,
              "#0d0887"
             ],
             [
              0.1111111111111111,
              "#46039f"
             ],
             [
              0.2222222222222222,
              "#7201a8"
             ],
             [
              0.3333333333333333,
              "#9c179e"
             ],
             [
              0.4444444444444444,
              "#bd3786"
             ],
             [
              0.5555555555555556,
              "#d8576b"
             ],
             [
              0.6666666666666666,
              "#ed7953"
             ],
             [
              0.7777777777777778,
              "#fb9f3a"
             ],
             [
              0.8888888888888888,
              "#fdca26"
             ],
             [
              1,
              "#f0f921"
             ]
            ],
            "type": "surface"
           }
          ],
          "table": [
           {
            "cells": {
             "fill": {
              "color": "#EBF0F8"
             },
             "line": {
              "color": "white"
             }
            },
            "header": {
             "fill": {
              "color": "#C8D4E3"
             },
             "line": {
              "color": "white"
             }
            },
            "type": "table"
           }
          ]
         },
         "layout": {
          "annotationdefaults": {
           "arrowcolor": "#2a3f5f",
           "arrowhead": 0,
           "arrowwidth": 1
          },
          "autotypenumbers": "strict",
          "coloraxis": {
           "colorbar": {
            "outlinewidth": 0,
            "ticks": ""
           }
          },
          "colorscale": {
           "diverging": [
            [
             0,
             "#8e0152"
            ],
            [
             0.1,
             "#c51b7d"
            ],
            [
             0.2,
             "#de77ae"
            ],
            [
             0.3,
             "#f1b6da"
            ],
            [
             0.4,
             "#fde0ef"
            ],
            [
             0.5,
             "#f7f7f7"
            ],
            [
             0.6,
             "#e6f5d0"
            ],
            [
             0.7,
             "#b8e186"
            ],
            [
             0.8,
             "#7fbc41"
            ],
            [
             0.9,
             "#4d9221"
            ],
            [
             1,
             "#276419"
            ]
           ],
           "sequential": [
            [
             0,
             "#0d0887"
            ],
            [
             0.1111111111111111,
             "#46039f"
            ],
            [
             0.2222222222222222,
             "#7201a8"
            ],
            [
             0.3333333333333333,
             "#9c179e"
            ],
            [
             0.4444444444444444,
             "#bd3786"
            ],
            [
             0.5555555555555556,
             "#d8576b"
            ],
            [
             0.6666666666666666,
             "#ed7953"
            ],
            [
             0.7777777777777778,
             "#fb9f3a"
            ],
            [
             0.8888888888888888,
             "#fdca26"
            ],
            [
             1,
             "#f0f921"
            ]
           ],
           "sequentialminus": [
            [
             0,
             "#0d0887"
            ],
            [
             0.1111111111111111,
             "#46039f"
            ],
            [
             0.2222222222222222,
             "#7201a8"
            ],
            [
             0.3333333333333333,
             "#9c179e"
            ],
            [
             0.4444444444444444,
             "#bd3786"
            ],
            [
             0.5555555555555556,
             "#d8576b"
            ],
            [
             0.6666666666666666,
             "#ed7953"
            ],
            [
             0.7777777777777778,
             "#fb9f3a"
            ],
            [
             0.8888888888888888,
             "#fdca26"
            ],
            [
             1,
             "#f0f921"
            ]
           ]
          },
          "colorway": [
           "#636efa",
           "#EF553B",
           "#00cc96",
           "#ab63fa",
           "#FFA15A",
           "#19d3f3",
           "#FF6692",
           "#B6E880",
           "#FF97FF",
           "#FECB52"
          ],
          "font": {
           "color": "#2a3f5f"
          },
          "geo": {
           "bgcolor": "white",
           "lakecolor": "white",
           "landcolor": "white",
           "showlakes": true,
           "showland": true,
           "subunitcolor": "#C8D4E3"
          },
          "hoverlabel": {
           "align": "left"
          },
          "hovermode": "closest",
          "mapbox": {
           "style": "light"
          },
          "paper_bgcolor": "white",
          "plot_bgcolor": "white",
          "polar": {
           "angularaxis": {
            "gridcolor": "#EBF0F8",
            "linecolor": "#EBF0F8",
            "ticks": ""
           },
           "bgcolor": "white",
           "radialaxis": {
            "gridcolor": "#EBF0F8",
            "linecolor": "#EBF0F8",
            "ticks": ""
           }
          },
          "scene": {
           "xaxis": {
            "backgroundcolor": "white",
            "gridcolor": "#DFE8F3",
            "gridwidth": 2,
            "linecolor": "#EBF0F8",
            "showbackground": true,
            "ticks": "",
            "zerolinecolor": "#EBF0F8"
           },
           "yaxis": {
            "backgroundcolor": "white",
            "gridcolor": "#DFE8F3",
            "gridwidth": 2,
            "linecolor": "#EBF0F8",
            "showbackground": true,
            "ticks": "",
            "zerolinecolor": "#EBF0F8"
           },
           "zaxis": {
            "backgroundcolor": "white",
            "gridcolor": "#DFE8F3",
            "gridwidth": 2,
            "linecolor": "#EBF0F8",
            "showbackground": true,
            "ticks": "",
            "zerolinecolor": "#EBF0F8"
           }
          },
          "shapedefaults": {
           "line": {
            "color": "#2a3f5f"
           }
          },
          "ternary": {
           "aaxis": {
            "gridcolor": "#DFE8F3",
            "linecolor": "#A2B1C6",
            "ticks": ""
           },
           "baxis": {
            "gridcolor": "#DFE8F3",
            "linecolor": "#A2B1C6",
            "ticks": ""
           },
           "bgcolor": "white",
           "caxis": {
            "gridcolor": "#DFE8F3",
            "linecolor": "#A2B1C6",
            "ticks": ""
           }
          },
          "title": {
           "x": 0.05
          },
          "xaxis": {
           "automargin": true,
           "gridcolor": "#EBF0F8",
           "linecolor": "#EBF0F8",
           "ticks": "",
           "title": {
            "standoff": 15
           },
           "zerolinecolor": "#EBF0F8",
           "zerolinewidth": 2
          },
          "yaxis": {
           "automargin": true,
           "gridcolor": "#EBF0F8",
           "linecolor": "#EBF0F8",
           "ticks": "",
           "title": {
            "standoff": 15
           },
           "zerolinecolor": "#EBF0F8",
           "zerolinewidth": 2
          }
         }
        },
        "title": {
         "text": "Boxplot: dbh по fac26 с разбивкой по species"
        },
        "xaxis": {
         "anchor": "y",
         "domain": [
          0,
          1
         ],
         "title": {
          "text": "fac26"
         }
        },
        "yaxis": {
         "anchor": "x",
         "domain": [
          0,
          1
         ],
         "title": {
          "text": "dbh"
         }
        }
       }
      },
      "image/png": "[encoded data removed]"
     },
     "metadata": {},
     "output_type": "display_data"
    }
   ],
   "source": [
    "import plotly.express as px\n",
    "\n",
    "fig1 = px.scatter(\n",
    "    df, \n",
    "    x='dbh', \n",
    "    y='wood',\n",
    "    color='species',\n",
    "    size='branch',\n",
    "    hover_data=['fac26'],\n",
    "    title='Интерактивный scatter: dbh vs wood, цвет - species, размер - branch',\n",
    "    template='plotly_white'\n",
    ")\n",
    "fig1.show()\n",
    "\n",
    "fig2 = px.bar(\n",
    "    df,\n",
    "    x='species',\n",
    "    y='wood',\n",
    "    color='fac26',\n",
    "    title='Barplot: wood по видам и fac26',\n",
    "    template='plotly_white',\n",
    "    barmode='group'\n",
    ")\n",
    "fig2.show()\n",
    "\n",
    "fig3 = px.box(\n",
    "    df, \n",
    "    x=\"fac26\", \n",
    "    y=\"dbh\", \n",
    "    color=\"species\",\n",
    "    title='Boxplot: dbh по fac26 с разбивкой по species',\n",
    "    template='plotly_white'\n",
    ")\n",
    "fig3.show()\n"
   ]
  },
  {
   "cell_type": "markdown",
   "id": "7785e9e1-fcaf-4d9f-8545-c612a7c278d3",
   "metadata": {},
   "source": [
    "### Вывод\n",
    "\n",
    "- Представлены различные типы графиков Seaborn: «скрипичный», «роевой», KDE, «ящик с усами» (FacetGrid).\n",
    "- Все графики выполнены в едином стиле и с единой сеткой.\n",
    "- В ноутбуке уже были гистограммы, ящичковые диаграммы и точечные диаграммы, но эти дополнения вносят разнообразие, создают единую сетку и стиль.\n",
    "- Plotly Express добавляет к EDA интерактивность, позволяя быстро анализировать зависимости, распределения и выполнять визуальный drill-down по категориям.\n"
   ]
  },
  {
   "cell_type": "code",
   "execution_count": null,
   "id": "8cca8868-238c-4659-b5d2-680fcdf1a52a",
   "metadata": {},
   "outputs": [],
   "source": []
  }
 ],
 "metadata": {
  "kernelspec": {
   "display_name": "Python 3 (ipykernel)",
   "language": "python",
   "name": "python3"
  },
  "language_info": {
   "codemirror_mode": {
    "name": "ipython",
    "version": 3
   },
   "file_extension": ".py",
   "mimetype": "text/x-python",
   "name": "python",
   "nbconvert_exporter": "python",
   "pygments_lexer": "ipython3",
   "version": "3.13.7"
  }
 },
 "nbformat": 4,
 "nbformat_minor": 5
}
