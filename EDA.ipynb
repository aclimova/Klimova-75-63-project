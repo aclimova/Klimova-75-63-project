import pandas as pd
import matplotlib.pyplot as plt
import seaborn as sns
from itertools import combinations
from data_loader import load_data
from sklearn.decomposition import PCA

%matplotlib inline
sns.set(style="whitegrid")

df = load_data()
if df is None:
    raise ValueError("Ошибка загрузки данных")

numeric_cols = ['dbh', 'wood', 'bark', 'root', 'rootsk', 'branch']
categorical_cols = ['species', 'fac26']

print("Размер датафрейма:", df.shape)
display(df.head())

print(df.describe(include='all'))
print("Пропущенные значения (число):", df.isna().sum().sum())
print("Дубликатов:", df.duplicated().sum())
print("Число уникальных значений в species:", df['species'].nunique())

n = len(numeric_cols)
fig, axes = plt.subplots(n, 2, figsize=(12, 4*n))
axes = axes.flatten()
for i, col in enumerate(numeric_cols):
    sns.histplot(df[col], bins=20, kde=True, ax=axes[2*i], color='skyblue')
    axes[2*i].set_title(f'Гистограмма {col}')
    sns.boxplot(x=df[col], ax=axes[2*i+1], color='lightgreen')
    axes[2*i+1].set_title(f'Boxplot {col}')
plt.tight_layout()
plt.show()

try:
    sns.pairplot(df[numeric_cols + ['species']], hue='species', diag_kind='kde')
    plt.show()
except Exception as e:
    print("Pairplot ошибка:", e)

plt.figure(figsize=(8,6))
sns.heatmap(df[numeric_cols].corr(), annot=True, cmap='coolwarm', fmt='.2f')
plt.title('Корреляция между числовыми признаками')
plt.show()

for col in numeric_cols:
    plt.figure(figsize=(10,4))
    sns.violinplot(x='species', y=col, data=df, inner='quart')
    sns.stripplot(x='species', y=col, data=df, color='k', alpha=0.5, size=3)
    plt.title(f'Violinplot + Stripplot {col} по видам')
    plt.xticks(rotation=45)
    plt.show()

sns.clustermap(df[numeric_cols].corr(), annot=True, cmap='vlag')
plt.title('Clustered heatmap корреляций')
plt.show()

pca = PCA(n_components=2)
coords = pca.fit_transform(df[numeric_cols].fillna(0))
plt.figure(figsize=(6,6))
sns.scatterplot(x=coords[:,0], y=coords[:,1], hue=df['species'])
plt.title('PCA двумерная проекция')
plt.show()
